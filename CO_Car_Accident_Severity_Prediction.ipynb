{
 "cells": [
  {
   "cell_type": "markdown",
   "metadata": {},
   "source": [
    "<h1 align=\"center\"><font size=\"5\">Colorado Car Accident Severity Prediction</font></h1>\n",
    "<h2 align=\"center\"><font size=\"5\">by Joanna Johnson</font></h2>"
   ]
  },
  {
   "cell_type": "markdown",
   "metadata": {},
   "source": [
    "In this notebook, I will use Colorado_Accidents dataset (a subset of US_Accidents dataset) to predict the severity level of a car accident (in terms of impact on traffic), in order to help roadway users (e.g. drivers), navigation service providers to make an informed decision whether or not an alternative route should be taken. Also it can be used to help authorities to make more accurate estimation of when the accident-caused traffic jam will be eased, therefore redirect traffic from the impacted roadway to minimize its impact.\n"
   ]
  },
  {
   "cell_type": "markdown",
   "metadata": {},
   "source": [
    "The target label for severity will be 1-4, it's a multi-class classification. In the algorithms we've learned so far, k-Nearest Neighbors and Decision Trees are good for this case. I will build and train one model for each of the algorithms and choose the best one for this project."
   ]
  },
  {
   "cell_type": "code",
   "execution_count": 1,
   "metadata": {},
   "outputs": [],
   "source": [
    "# Import libraries\n",
    "import pandas as pd\n",
    "import numpy as np\n",
    "import matplotlib.pyplot as plt\n",
    "from sklearn import preprocessing\n",
    "import itertools\n",
    "from matplotlib.ticker import NullFormatter\n",
    "import matplotlib.ticker as ticker\n",
    "%matplotlib inline\n",
    "import seaborn as sns"
   ]
  },
  {
   "cell_type": "code",
   "execution_count": 2,
   "metadata": {},
   "outputs": [
    {
     "data": {
      "text/html": [
       "<div>\n",
       "<style scoped>\n",
       "    .dataframe tbody tr th:only-of-type {\n",
       "        vertical-align: middle;\n",
       "    }\n",
       "\n",
       "    .dataframe tbody tr th {\n",
       "        vertical-align: top;\n",
       "    }\n",
       "\n",
       "    .dataframe thead th {\n",
       "        text-align: right;\n",
       "    }\n",
       "</style>\n",
       "<table border=\"1\" class=\"dataframe\">\n",
       "  <thead>\n",
       "    <tr style=\"text-align: right;\">\n",
       "      <th></th>\n",
       "      <th>Rush_Hour</th>\n",
       "      <th>Duration_in_Hour</th>\n",
       "      <th>Interstate</th>\n",
       "      <th>ID</th>\n",
       "      <th>Source</th>\n",
       "      <th>TMC</th>\n",
       "      <th>Severity</th>\n",
       "      <th>Start_Time</th>\n",
       "      <th>End_Time</th>\n",
       "      <th>Start_Lat</th>\n",
       "      <th>...</th>\n",
       "      <th>Roundabout</th>\n",
       "      <th>Station</th>\n",
       "      <th>Stop</th>\n",
       "      <th>Traffic_Calming</th>\n",
       "      <th>Traffic_Signal</th>\n",
       "      <th>Turning_Loop</th>\n",
       "      <th>Sunrise_Sunset</th>\n",
       "      <th>Civil_Twilight</th>\n",
       "      <th>Nautical_Twilight</th>\n",
       "      <th>Astronomical_Twilight</th>\n",
       "    </tr>\n",
       "  </thead>\n",
       "  <tbody>\n",
       "    <tr>\n",
       "      <th>0</th>\n",
       "      <td>0</td>\n",
       "      <td>2.26</td>\n",
       "      <td>0</td>\n",
       "      <td>A-512419</td>\n",
       "      <td>MapQuest</td>\n",
       "      <td>241.0</td>\n",
       "      <td>2</td>\n",
       "      <td>5/24/2020 11:23</td>\n",
       "      <td>5/24/2020 13:38</td>\n",
       "      <td>39.26</td>\n",
       "      <td>...</td>\n",
       "      <td>False</td>\n",
       "      <td>False</td>\n",
       "      <td>False</td>\n",
       "      <td>False</td>\n",
       "      <td>False</td>\n",
       "      <td>False</td>\n",
       "      <td>Day</td>\n",
       "      <td>Day</td>\n",
       "      <td>Day</td>\n",
       "      <td>Day</td>\n",
       "    </tr>\n",
       "    <tr>\n",
       "      <th>1</th>\n",
       "      <td>0</td>\n",
       "      <td>0.49</td>\n",
       "      <td>1</td>\n",
       "      <td>A-512420</td>\n",
       "      <td>MapQuest</td>\n",
       "      <td>245.0</td>\n",
       "      <td>3</td>\n",
       "      <td>5/24/2020 14:24</td>\n",
       "      <td>5/24/2020 14:54</td>\n",
       "      <td>39.05</td>\n",
       "      <td>...</td>\n",
       "      <td>False</td>\n",
       "      <td>False</td>\n",
       "      <td>False</td>\n",
       "      <td>False</td>\n",
       "      <td>False</td>\n",
       "      <td>False</td>\n",
       "      <td>Day</td>\n",
       "      <td>Day</td>\n",
       "      <td>Day</td>\n",
       "      <td>Day</td>\n",
       "    </tr>\n",
       "    <tr>\n",
       "      <th>2</th>\n",
       "      <td>1</td>\n",
       "      <td>1.49</td>\n",
       "      <td>1</td>\n",
       "      <td>A-512421</td>\n",
       "      <td>MapQuest</td>\n",
       "      <td>241.0</td>\n",
       "      <td>3</td>\n",
       "      <td>5/24/2020 16:17</td>\n",
       "      <td>5/24/2020 17:47</td>\n",
       "      <td>39.78</td>\n",
       "      <td>...</td>\n",
       "      <td>False</td>\n",
       "      <td>False</td>\n",
       "      <td>False</td>\n",
       "      <td>False</td>\n",
       "      <td>False</td>\n",
       "      <td>False</td>\n",
       "      <td>Day</td>\n",
       "      <td>Day</td>\n",
       "      <td>Day</td>\n",
       "      <td>Day</td>\n",
       "    </tr>\n",
       "    <tr>\n",
       "      <th>3</th>\n",
       "      <td>1</td>\n",
       "      <td>0.99</td>\n",
       "      <td>0</td>\n",
       "      <td>A-512422</td>\n",
       "      <td>MapQuest</td>\n",
       "      <td>201.0</td>\n",
       "      <td>2</td>\n",
       "      <td>5/24/2020 16:22</td>\n",
       "      <td>5/24/2020 17:22</td>\n",
       "      <td>39.72</td>\n",
       "      <td>...</td>\n",
       "      <td>False</td>\n",
       "      <td>False</td>\n",
       "      <td>False</td>\n",
       "      <td>False</td>\n",
       "      <td>True</td>\n",
       "      <td>False</td>\n",
       "      <td>Day</td>\n",
       "      <td>Day</td>\n",
       "      <td>Day</td>\n",
       "      <td>Day</td>\n",
       "    </tr>\n",
       "    <tr>\n",
       "      <th>4</th>\n",
       "      <td>1</td>\n",
       "      <td>0.49</td>\n",
       "      <td>0</td>\n",
       "      <td>A-512423</td>\n",
       "      <td>MapQuest</td>\n",
       "      <td>241.0</td>\n",
       "      <td>2</td>\n",
       "      <td>5/24/2020 16:54</td>\n",
       "      <td>5/24/2020 17:23</td>\n",
       "      <td>39.56</td>\n",
       "      <td>...</td>\n",
       "      <td>False</td>\n",
       "      <td>False</td>\n",
       "      <td>False</td>\n",
       "      <td>False</td>\n",
       "      <td>False</td>\n",
       "      <td>False</td>\n",
       "      <td>Day</td>\n",
       "      <td>Day</td>\n",
       "      <td>Day</td>\n",
       "      <td>Day</td>\n",
       "    </tr>\n",
       "  </tbody>\n",
       "</table>\n",
       "<p>5 rows × 52 columns</p>\n",
       "</div>"
      ],
      "text/plain": [
       "   Rush_Hour  Duration_in_Hour  Interstate        ID    Source    TMC  \\\n",
       "0          0              2.26           0  A-512419  MapQuest  241.0   \n",
       "1          0              0.49           1  A-512420  MapQuest  245.0   \n",
       "2          1              1.49           1  A-512421  MapQuest  241.0   \n",
       "3          1              0.99           0  A-512422  MapQuest  201.0   \n",
       "4          1              0.49           0  A-512423  MapQuest  241.0   \n",
       "\n",
       "   Severity       Start_Time         End_Time  Start_Lat  ...  Roundabout  \\\n",
       "0         2  5/24/2020 11:23  5/24/2020 13:38      39.26  ...       False   \n",
       "1         3  5/24/2020 14:24  5/24/2020 14:54      39.05  ...       False   \n",
       "2         3  5/24/2020 16:17  5/24/2020 17:47      39.78  ...       False   \n",
       "3         2  5/24/2020 16:22  5/24/2020 17:22      39.72  ...       False   \n",
       "4         2  5/24/2020 16:54  5/24/2020 17:23      39.56  ...       False   \n",
       "\n",
       "   Station   Stop  Traffic_Calming Traffic_Signal  Turning_Loop  \\\n",
       "0    False  False            False          False         False   \n",
       "1    False  False            False          False         False   \n",
       "2    False  False            False          False         False   \n",
       "3    False  False            False           True         False   \n",
       "4    False  False            False          False         False   \n",
       "\n",
       "  Sunrise_Sunset Civil_Twilight Nautical_Twilight Astronomical_Twilight  \n",
       "0            Day            Day               Day                   Day  \n",
       "1            Day            Day               Day                   Day  \n",
       "2            Day            Day               Day                   Day  \n",
       "3            Day            Day               Day                   Day  \n",
       "4            Day            Day               Day                   Day  \n",
       "\n",
       "[5 rows x 52 columns]"
      ]
     },
     "execution_count": 2,
     "metadata": {},
     "output_type": "execute_result"
    }
   ],
   "source": [
    "# Read the Colorado_Accidents_new.csv (this is a subset of US_Accidents_June20.csv downloaded from https://smoosavi.org/datasets/us_accidents\n",
    "# First upload the file to jupyterlab, then use pandas read_csv to read it and assign it to co_accidents_df variable\n",
    "co_accidents_df=pd.read_csv('Colorado_Accidents_new.csv', encoding = \"ISO-8859-1\", engine='python')\n",
    "co_accidents_df.head()"
   ]
  },
  {
   "cell_type": "code",
   "execution_count": 3,
   "metadata": {},
   "outputs": [
    {
     "data": {
      "text/plain": [
       "(49731, 52)"
      ]
     },
     "execution_count": 3,
     "metadata": {},
     "output_type": "execute_result"
    }
   ],
   "source": [
    "# find out the number of rows in the dataframe\n",
    "co_accidents_df.shape"
   ]
  },
  {
   "cell_type": "code",
   "execution_count": 4,
   "metadata": {},
   "outputs": [
    {
     "name": "stdout",
     "output_type": "stream",
     "text": [
      "<class 'pandas.core.frame.DataFrame'>\n",
      "RangeIndex: 49731 entries, 0 to 49730\n",
      "Data columns (total 52 columns):\n",
      " #   Column                 Non-Null Count  Dtype  \n",
      "---  ------                 --------------  -----  \n",
      " 0   Rush_Hour              49731 non-null  int64  \n",
      " 1   Duration_in_Hour       49731 non-null  float64\n",
      " 2   Interstate             49731 non-null  int64  \n",
      " 3   ID                     49731 non-null  object \n",
      " 4   Source                 49731 non-null  object \n",
      " 5   TMC                    30865 non-null  float64\n",
      " 6   Severity               49731 non-null  int64  \n",
      " 7   Start_Time             49731 non-null  object \n",
      " 8   End_Time               49731 non-null  object \n",
      " 9   Start_Lat              49731 non-null  float64\n",
      " 10  Start_Lng              49731 non-null  float64\n",
      " 11  End_Lat                18866 non-null  float64\n",
      " 12  End_Lng                18866 non-null  float64\n",
      " 13  Distance(mi)           49731 non-null  float64\n",
      " 14  Description            49731 non-null  object \n",
      " 15  Number                 14602 non-null  float64\n",
      " 16  Street                 49731 non-null  object \n",
      " 17  Side                   49731 non-null  object \n",
      " 18  City                   49729 non-null  object \n",
      " 19  County                 49731 non-null  object \n",
      " 20  State                  49731 non-null  object \n",
      " 21  Zipcode                49731 non-null  object \n",
      " 22  Country                49731 non-null  object \n",
      " 23  Timezone               49730 non-null  object \n",
      " 24  Airport_Code           49710 non-null  object \n",
      " 25  Weather_Timestamp      49385 non-null  object \n",
      " 26  Temperature(F)         49266 non-null  float64\n",
      " 27  Wind_Chill(F)          33652 non-null  float64\n",
      " 28  Humidity(%)            49251 non-null  float64\n",
      " 29  Pressure(in)           49362 non-null  float64\n",
      " 30  Visibility(mi)         49089 non-null  float64\n",
      " 31  Wind_Direction         49207 non-null  object \n",
      " 32  Wind_Speed(mph)        44579 non-null  float64\n",
      " 33  Precipitation(in)      23870 non-null  float64\n",
      " 34  Weather_Condition      49215 non-null  object \n",
      " 35  Amenity                49731 non-null  bool   \n",
      " 36  Bump                   49731 non-null  bool   \n",
      " 37  Crossing               49731 non-null  bool   \n",
      " 38  Give_Way               49731 non-null  bool   \n",
      " 39  Junction               49731 non-null  bool   \n",
      " 40  No_Exit                49731 non-null  bool   \n",
      " 41  Railway                49731 non-null  bool   \n",
      " 42  Roundabout             49731 non-null  bool   \n",
      " 43  Station                49731 non-null  bool   \n",
      " 44  Stop                   49731 non-null  bool   \n",
      " 45  Traffic_Calming        49731 non-null  bool   \n",
      " 46  Traffic_Signal         49731 non-null  bool   \n",
      " 47  Turning_Loop           49731 non-null  bool   \n",
      " 48  Sunrise_Sunset         49729 non-null  object \n",
      " 49  Civil_Twilight         49729 non-null  object \n",
      " 50  Nautical_Twilight      49729 non-null  object \n",
      " 51  Astronomical_Twilight  49729 non-null  object \n",
      "dtypes: bool(13), float64(15), int64(3), object(21)\n",
      "memory usage: 15.4+ MB\n"
     ]
    }
   ],
   "source": [
    "# show dtype for all columns\n",
    "co_accidents_df.info()"
   ]
  },
  {
   "cell_type": "code",
   "execution_count": 5,
   "metadata": {},
   "outputs": [
    {
     "name": "stdout",
     "output_type": "stream",
     "text": [
      "<class 'pandas.core.frame.DataFrame'>\n",
      "RangeIndex: 49731 entries, 0 to 49730\n",
      "Data columns (total 24 columns):\n",
      " #   Column                 Non-Null Count  Dtype  \n",
      "---  ------                 --------------  -----  \n",
      " 0   Rush_Hour              49731 non-null  int64  \n",
      " 1   Duration_in_Hour       49731 non-null  float64\n",
      " 2   Interstate             49731 non-null  int64  \n",
      " 3   Severity               49731 non-null  int64  \n",
      " 4   Distance(mi)           49731 non-null  float64\n",
      " 5   Temperature(F)         49266 non-null  float64\n",
      " 6   Humidity(%)            49251 non-null  float64\n",
      " 7   Pressure(in)           49362 non-null  float64\n",
      " 8   Visibility(mi)         49089 non-null  float64\n",
      " 9   Wind_Speed(mph)        44579 non-null  float64\n",
      " 10  Weather_Condition      49215 non-null  object \n",
      " 11  Bump                   49731 non-null  bool   \n",
      " 12  Crossing               49731 non-null  bool   \n",
      " 13  Give_Way               49731 non-null  bool   \n",
      " 14  Junction               49731 non-null  bool   \n",
      " 15  No_Exit                49731 non-null  bool   \n",
      " 16  Railway                49731 non-null  bool   \n",
      " 17  Roundabout             49731 non-null  bool   \n",
      " 18  Station                49731 non-null  bool   \n",
      " 19  Stop                   49731 non-null  bool   \n",
      " 20  Traffic_Calming        49731 non-null  bool   \n",
      " 21  Traffic_Signal         49731 non-null  bool   \n",
      " 22  Turning_Loop           49731 non-null  bool   \n",
      " 23  Astronomical_Twilight  49729 non-null  object \n",
      "dtypes: bool(12), float64(7), int64(3), object(2)\n",
      "memory usage: 5.1+ MB\n"
     ]
    }
   ],
   "source": [
    "# drop the columns not being used\n",
    "co_accidents_df.drop(['ID', 'Source', 'TMC', 'Start_Time', 'End_Time', 'Start_Lat', 'Start_Lng', 'End_Lat', 'End_Lng', 'Description', 'Number', 'Street', 'Side', 'City', 'County', 'Zipcode', 'State', 'Country', 'Timezone', 'Airport_Code', 'Weather_Timestamp', 'Wind_Direction', 'Amenity', 'Sunrise_Sunset', 'Civil_Twilight', 'Nautical_Twilight', 'Wind_Chill(F)', 'Precipitation(in)'], axis = 1, inplace=True)\n",
    "co_accidents_df.info()"
   ]
  },
  {
   "cell_type": "code",
   "execution_count": 6,
   "metadata": {},
   "outputs": [
    {
     "name": "stdout",
     "output_type": "stream",
     "text": [
      "<class 'pandas.core.frame.DataFrame'>\n",
      "RangeIndex: 49731 entries, 0 to 49730\n",
      "Data columns (total 24 columns):\n",
      " #   Column                 Non-Null Count  Dtype  \n",
      "---  ------                 --------------  -----  \n",
      " 0   Rush_Hour              49731 non-null  int64  \n",
      " 1   Duration_in_Hour       49731 non-null  float64\n",
      " 2   Interstate             49731 non-null  int64  \n",
      " 3   Severity               49731 non-null  int64  \n",
      " 4   Distance_mi            49731 non-null  float64\n",
      " 5   Temperature_F          49266 non-null  float64\n",
      " 6   Humidity_percent       49251 non-null  float64\n",
      " 7   Pressure_in            49362 non-null  float64\n",
      " 8   Visibility_mi          49089 non-null  float64\n",
      " 9   Wind_Speed_mph         44579 non-null  float64\n",
      " 10  Weather_Condition      49215 non-null  object \n",
      " 11  Bump                   49731 non-null  bool   \n",
      " 12  Crossing               49731 non-null  bool   \n",
      " 13  Give_Way               49731 non-null  bool   \n",
      " 14  Junction               49731 non-null  bool   \n",
      " 15  No_Exit                49731 non-null  bool   \n",
      " 16  Railway                49731 non-null  bool   \n",
      " 17  Roundabout             49731 non-null  bool   \n",
      " 18  Station                49731 non-null  bool   \n",
      " 19  Stop                   49731 non-null  bool   \n",
      " 20  Traffic_Calming        49731 non-null  bool   \n",
      " 21  Traffic_Signal         49731 non-null  bool   \n",
      " 22  Turning_Loop           49731 non-null  bool   \n",
      " 23  Astronomical_Twilight  49729 non-null  object \n",
      "dtypes: bool(12), float64(7), int64(3), object(2)\n",
      "memory usage: 5.1+ MB\n"
     ]
    }
   ],
   "source": [
    "# rename some columns to get rid of parentheses\n",
    "co_accidents_df.rename(columns = {'Distance(mi)':'Distance_mi', 'Temperature(F)':'Temperature_F', 'Humidity(%)':'Humidity_percent', 'Pressure(in)':'Pressure_in', 'Visibility(mi)':'Visibility_mi', 'Wind_Speed(mph)':'Wind_Speed_mph'}, inplace = True) \n",
    "co_accidents_df.info()"
   ]
  },
  {
   "cell_type": "code",
   "execution_count": 7,
   "metadata": {},
   "outputs": [
    {
     "data": {
      "text/html": [
       "<div>\n",
       "<style scoped>\n",
       "    .dataframe tbody tr th:only-of-type {\n",
       "        vertical-align: middle;\n",
       "    }\n",
       "\n",
       "    .dataframe tbody tr th {\n",
       "        vertical-align: top;\n",
       "    }\n",
       "\n",
       "    .dataframe thead th {\n",
       "        text-align: right;\n",
       "    }\n",
       "</style>\n",
       "<table border=\"1\" class=\"dataframe\">\n",
       "  <thead>\n",
       "    <tr style=\"text-align: right;\">\n",
       "      <th></th>\n",
       "      <th>Rush_Hour</th>\n",
       "      <th>Duration_in_Hour</th>\n",
       "      <th>Interstate</th>\n",
       "      <th>Severity</th>\n",
       "      <th>Distance_mi</th>\n",
       "      <th>Temperature_F</th>\n",
       "      <th>Humidity_percent</th>\n",
       "      <th>Pressure_in</th>\n",
       "      <th>Visibility_mi</th>\n",
       "      <th>Wind_Speed_mph</th>\n",
       "      <th>...</th>\n",
       "      <th>Junction</th>\n",
       "      <th>No_Exit</th>\n",
       "      <th>Railway</th>\n",
       "      <th>Roundabout</th>\n",
       "      <th>Station</th>\n",
       "      <th>Stop</th>\n",
       "      <th>Traffic_Calming</th>\n",
       "      <th>Traffic_Signal</th>\n",
       "      <th>Turning_Loop</th>\n",
       "      <th>Astronomical_Twilight</th>\n",
       "    </tr>\n",
       "  </thead>\n",
       "  <tbody>\n",
       "    <tr>\n",
       "      <th>0</th>\n",
       "      <td>0</td>\n",
       "      <td>2.26</td>\n",
       "      <td>0</td>\n",
       "      <td>2</td>\n",
       "      <td>0.00</td>\n",
       "      <td>37.0</td>\n",
       "      <td>76.0</td>\n",
       "      <td>20.74</td>\n",
       "      <td>1.0</td>\n",
       "      <td>14.0</td>\n",
       "      <td>...</td>\n",
       "      <td>False</td>\n",
       "      <td>False</td>\n",
       "      <td>False</td>\n",
       "      <td>False</td>\n",
       "      <td>False</td>\n",
       "      <td>False</td>\n",
       "      <td>False</td>\n",
       "      <td>False</td>\n",
       "      <td>False</td>\n",
       "      <td>Day</td>\n",
       "    </tr>\n",
       "    <tr>\n",
       "      <th>1</th>\n",
       "      <td>0</td>\n",
       "      <td>0.49</td>\n",
       "      <td>1</td>\n",
       "      <td>3</td>\n",
       "      <td>0.00</td>\n",
       "      <td>50.0</td>\n",
       "      <td>82.0</td>\n",
       "      <td>23.50</td>\n",
       "      <td>7.0</td>\n",
       "      <td>6.0</td>\n",
       "      <td>...</td>\n",
       "      <td>False</td>\n",
       "      <td>False</td>\n",
       "      <td>False</td>\n",
       "      <td>False</td>\n",
       "      <td>False</td>\n",
       "      <td>False</td>\n",
       "      <td>False</td>\n",
       "      <td>False</td>\n",
       "      <td>False</td>\n",
       "      <td>Day</td>\n",
       "    </tr>\n",
       "    <tr>\n",
       "      <th>2</th>\n",
       "      <td>1</td>\n",
       "      <td>1.49</td>\n",
       "      <td>1</td>\n",
       "      <td>3</td>\n",
       "      <td>0.00</td>\n",
       "      <td>46.0</td>\n",
       "      <td>93.0</td>\n",
       "      <td>24.40</td>\n",
       "      <td>2.0</td>\n",
       "      <td>10.0</td>\n",
       "      <td>...</td>\n",
       "      <td>False</td>\n",
       "      <td>False</td>\n",
       "      <td>False</td>\n",
       "      <td>False</td>\n",
       "      <td>False</td>\n",
       "      <td>False</td>\n",
       "      <td>False</td>\n",
       "      <td>False</td>\n",
       "      <td>False</td>\n",
       "      <td>Day</td>\n",
       "    </tr>\n",
       "    <tr>\n",
       "      <th>3</th>\n",
       "      <td>1</td>\n",
       "      <td>0.99</td>\n",
       "      <td>0</td>\n",
       "      <td>2</td>\n",
       "      <td>0.00</td>\n",
       "      <td>46.0</td>\n",
       "      <td>93.0</td>\n",
       "      <td>24.40</td>\n",
       "      <td>2.0</td>\n",
       "      <td>10.0</td>\n",
       "      <td>...</td>\n",
       "      <td>False</td>\n",
       "      <td>False</td>\n",
       "      <td>False</td>\n",
       "      <td>False</td>\n",
       "      <td>False</td>\n",
       "      <td>False</td>\n",
       "      <td>False</td>\n",
       "      <td>True</td>\n",
       "      <td>False</td>\n",
       "      <td>Day</td>\n",
       "    </tr>\n",
       "    <tr>\n",
       "      <th>4</th>\n",
       "      <td>1</td>\n",
       "      <td>0.49</td>\n",
       "      <td>0</td>\n",
       "      <td>2</td>\n",
       "      <td>7.25</td>\n",
       "      <td>45.0</td>\n",
       "      <td>NaN</td>\n",
       "      <td>24.20</td>\n",
       "      <td>2.0</td>\n",
       "      <td>6.0</td>\n",
       "      <td>...</td>\n",
       "      <td>False</td>\n",
       "      <td>False</td>\n",
       "      <td>False</td>\n",
       "      <td>False</td>\n",
       "      <td>False</td>\n",
       "      <td>False</td>\n",
       "      <td>False</td>\n",
       "      <td>False</td>\n",
       "      <td>False</td>\n",
       "      <td>Day</td>\n",
       "    </tr>\n",
       "  </tbody>\n",
       "</table>\n",
       "<p>5 rows × 24 columns</p>\n",
       "</div>"
      ],
      "text/plain": [
       "   Rush_Hour  Duration_in_Hour  Interstate  Severity  Distance_mi  \\\n",
       "0          0              2.26           0         2         0.00   \n",
       "1          0              0.49           1         3         0.00   \n",
       "2          1              1.49           1         3         0.00   \n",
       "3          1              0.99           0         2         0.00   \n",
       "4          1              0.49           0         2         7.25   \n",
       "\n",
       "   Temperature_F  Humidity_percent  Pressure_in  Visibility_mi  \\\n",
       "0           37.0              76.0        20.74            1.0   \n",
       "1           50.0              82.0        23.50            7.0   \n",
       "2           46.0              93.0        24.40            2.0   \n",
       "3           46.0              93.0        24.40            2.0   \n",
       "4           45.0               NaN        24.20            2.0   \n",
       "\n",
       "   Wind_Speed_mph  ... Junction  No_Exit  Railway  Roundabout  Station   Stop  \\\n",
       "0            14.0  ...    False    False    False       False    False  False   \n",
       "1             6.0  ...    False    False    False       False    False  False   \n",
       "2            10.0  ...    False    False    False       False    False  False   \n",
       "3            10.0  ...    False    False    False       False    False  False   \n",
       "4             6.0  ...    False    False    False       False    False  False   \n",
       "\n",
       "   Traffic_Calming  Traffic_Signal  Turning_Loop  Astronomical_Twilight  \n",
       "0            False           False         False                    Day  \n",
       "1            False           False         False                    Day  \n",
       "2            False           False         False                    Day  \n",
       "3            False            True         False                    Day  \n",
       "4            False           False         False                    Day  \n",
       "\n",
       "[5 rows x 24 columns]"
      ]
     },
     "execution_count": 7,
     "metadata": {},
     "output_type": "execute_result"
    }
   ],
   "source": [
    "co_accidents_df.head()"
   ]
  },
  {
   "cell_type": "code",
   "execution_count": 8,
   "metadata": {},
   "outputs": [
    {
     "data": {
      "text/plain": [
       "2    25516\n",
       "3    19888\n",
       "4     3808\n",
       "1      519\n",
       "Name: Severity, dtype: int64"
      ]
     },
     "execution_count": 8,
     "metadata": {},
     "output_type": "execute_result"
    }
   ],
   "source": [
    "# let's see how many of each class is in our dataset.\n",
    "co_accidents_df['Severity'].value_counts()"
   ]
  },
  {
   "cell_type": "code",
   "execution_count": 9,
   "metadata": {},
   "outputs": [
    {
     "data": {
      "text/html": [
       "<div>\n",
       "<style scoped>\n",
       "    .dataframe tbody tr th:only-of-type {\n",
       "        vertical-align: middle;\n",
       "    }\n",
       "\n",
       "    .dataframe tbody tr th {\n",
       "        vertical-align: top;\n",
       "    }\n",
       "\n",
       "    .dataframe thead th {\n",
       "        text-align: right;\n",
       "    }\n",
       "</style>\n",
       "<table border=\"1\" class=\"dataframe\">\n",
       "  <thead>\n",
       "    <tr style=\"text-align: right;\">\n",
       "      <th></th>\n",
       "      <th>Rush_Hour</th>\n",
       "      <th>Duration_in_Hour</th>\n",
       "      <th>Interstate</th>\n",
       "      <th>Severity</th>\n",
       "      <th>Distance_mi</th>\n",
       "      <th>Temperature_F</th>\n",
       "      <th>Humidity_percent</th>\n",
       "      <th>Pressure_in</th>\n",
       "      <th>Visibility_mi</th>\n",
       "      <th>Wind_Speed_mph</th>\n",
       "      <th>...</th>\n",
       "      <th>Give_Way</th>\n",
       "      <th>Junction</th>\n",
       "      <th>No_Exit</th>\n",
       "      <th>Railway</th>\n",
       "      <th>Roundabout</th>\n",
       "      <th>Station</th>\n",
       "      <th>Stop</th>\n",
       "      <th>Traffic_Calming</th>\n",
       "      <th>Traffic_Signal</th>\n",
       "      <th>Turning_Loop</th>\n",
       "    </tr>\n",
       "  </thead>\n",
       "  <tbody>\n",
       "    <tr>\n",
       "      <th>Rush_Hour</th>\n",
       "      <td>1.000000</td>\n",
       "      <td>-0.047480</td>\n",
       "      <td>-0.105483</td>\n",
       "      <td>-0.248535</td>\n",
       "      <td>-0.079848</td>\n",
       "      <td>-0.089334</td>\n",
       "      <td>0.096818</td>\n",
       "      <td>0.087034</td>\n",
       "      <td>0.050170</td>\n",
       "      <td>-0.047366</td>\n",
       "      <td>...</td>\n",
       "      <td>0.017083</td>\n",
       "      <td>-0.055271</td>\n",
       "      <td>0.002493</td>\n",
       "      <td>0.008871</td>\n",
       "      <td>-0.006432</td>\n",
       "      <td>0.046819</td>\n",
       "      <td>0.030820</td>\n",
       "      <td>-0.010083</td>\n",
       "      <td>0.141437</td>\n",
       "      <td>NaN</td>\n",
       "    </tr>\n",
       "    <tr>\n",
       "      <th>Duration_in_Hour</th>\n",
       "      <td>-0.047480</td>\n",
       "      <td>1.000000</td>\n",
       "      <td>-0.011214</td>\n",
       "      <td>0.068676</td>\n",
       "      <td>0.048962</td>\n",
       "      <td>0.031803</td>\n",
       "      <td>-0.026255</td>\n",
       "      <td>0.075781</td>\n",
       "      <td>0.009713</td>\n",
       "      <td>0.020977</td>\n",
       "      <td>...</td>\n",
       "      <td>-0.007750</td>\n",
       "      <td>0.058521</td>\n",
       "      <td>-0.007731</td>\n",
       "      <td>-0.006014</td>\n",
       "      <td>-0.000976</td>\n",
       "      <td>-0.017361</td>\n",
       "      <td>-0.014389</td>\n",
       "      <td>-0.003085</td>\n",
       "      <td>-0.052569</td>\n",
       "      <td>NaN</td>\n",
       "    </tr>\n",
       "    <tr>\n",
       "      <th>Interstate</th>\n",
       "      <td>-0.105483</td>\n",
       "      <td>-0.011214</td>\n",
       "      <td>1.000000</td>\n",
       "      <td>0.302019</td>\n",
       "      <td>0.052215</td>\n",
       "      <td>-0.011441</td>\n",
       "      <td>-0.025293</td>\n",
       "      <td>-0.213981</td>\n",
       "      <td>0.006712</td>\n",
       "      <td>-0.004378</td>\n",
       "      <td>...</td>\n",
       "      <td>-0.011877</td>\n",
       "      <td>0.092324</td>\n",
       "      <td>-0.041062</td>\n",
       "      <td>-0.031446</td>\n",
       "      <td>-0.002848</td>\n",
       "      <td>-0.081205</td>\n",
       "      <td>-0.108952</td>\n",
       "      <td>-0.016491</td>\n",
       "      <td>-0.317072</td>\n",
       "      <td>NaN</td>\n",
       "    </tr>\n",
       "    <tr>\n",
       "      <th>Severity</th>\n",
       "      <td>-0.248535</td>\n",
       "      <td>0.068676</td>\n",
       "      <td>0.302019</td>\n",
       "      <td>1.000000</td>\n",
       "      <td>0.204072</td>\n",
       "      <td>0.044818</td>\n",
       "      <td>-0.062342</td>\n",
       "      <td>-0.068893</td>\n",
       "      <td>-0.005286</td>\n",
       "      <td>0.047433</td>\n",
       "      <td>...</td>\n",
       "      <td>-0.011997</td>\n",
       "      <td>0.070189</td>\n",
       "      <td>-0.031901</td>\n",
       "      <td>-0.026014</td>\n",
       "      <td>-0.003745</td>\n",
       "      <td>-0.097874</td>\n",
       "      <td>-0.081742</td>\n",
       "      <td>0.012266</td>\n",
       "      <td>-0.359589</td>\n",
       "      <td>NaN</td>\n",
       "    </tr>\n",
       "    <tr>\n",
       "      <th>Distance_mi</th>\n",
       "      <td>-0.079848</td>\n",
       "      <td>0.048962</td>\n",
       "      <td>0.052215</td>\n",
       "      <td>0.204072</td>\n",
       "      <td>1.000000</td>\n",
       "      <td>-0.009808</td>\n",
       "      <td>0.008677</td>\n",
       "      <td>-0.026448</td>\n",
       "      <td>-0.034711</td>\n",
       "      <td>0.043553</td>\n",
       "      <td>...</td>\n",
       "      <td>-0.004578</td>\n",
       "      <td>0.015618</td>\n",
       "      <td>-0.006061</td>\n",
       "      <td>-0.008069</td>\n",
       "      <td>-0.000848</td>\n",
       "      <td>-0.024903</td>\n",
       "      <td>0.007666</td>\n",
       "      <td>0.021221</td>\n",
       "      <td>-0.084469</td>\n",
       "      <td>NaN</td>\n",
       "    </tr>\n",
       "    <tr>\n",
       "      <th>Temperature_F</th>\n",
       "      <td>-0.089334</td>\n",
       "      <td>0.031803</td>\n",
       "      <td>-0.011441</td>\n",
       "      <td>0.044818</td>\n",
       "      <td>-0.009808</td>\n",
       "      <td>1.000000</td>\n",
       "      <td>-0.643025</td>\n",
       "      <td>-0.119968</td>\n",
       "      <td>0.179998</td>\n",
       "      <td>0.053684</td>\n",
       "      <td>...</td>\n",
       "      <td>0.002820</td>\n",
       "      <td>0.033698</td>\n",
       "      <td>-0.002444</td>\n",
       "      <td>-0.011805</td>\n",
       "      <td>-0.001672</td>\n",
       "      <td>-0.017655</td>\n",
       "      <td>-0.019607</td>\n",
       "      <td>0.010218</td>\n",
       "      <td>-0.004559</td>\n",
       "      <td>NaN</td>\n",
       "    </tr>\n",
       "    <tr>\n",
       "      <th>Humidity_percent</th>\n",
       "      <td>0.096818</td>\n",
       "      <td>-0.026255</td>\n",
       "      <td>-0.025293</td>\n",
       "      <td>-0.062342</td>\n",
       "      <td>0.008677</td>\n",
       "      <td>-0.643025</td>\n",
       "      <td>1.000000</td>\n",
       "      <td>0.073916</td>\n",
       "      <td>-0.310505</td>\n",
       "      <td>-0.151871</td>\n",
       "      <td>...</td>\n",
       "      <td>0.002179</td>\n",
       "      <td>-0.033311</td>\n",
       "      <td>-0.004007</td>\n",
       "      <td>0.009876</td>\n",
       "      <td>0.005699</td>\n",
       "      <td>0.030480</td>\n",
       "      <td>0.032557</td>\n",
       "      <td>-0.010694</td>\n",
       "      <td>0.027964</td>\n",
       "      <td>NaN</td>\n",
       "    </tr>\n",
       "    <tr>\n",
       "      <th>Pressure_in</th>\n",
       "      <td>0.087034</td>\n",
       "      <td>0.075781</td>\n",
       "      <td>-0.213981</td>\n",
       "      <td>-0.068893</td>\n",
       "      <td>-0.026448</td>\n",
       "      <td>-0.119968</td>\n",
       "      <td>0.073916</td>\n",
       "      <td>1.000000</td>\n",
       "      <td>0.148512</td>\n",
       "      <td>0.062430</td>\n",
       "      <td>...</td>\n",
       "      <td>0.005642</td>\n",
       "      <td>0.015048</td>\n",
       "      <td>0.003584</td>\n",
       "      <td>0.004370</td>\n",
       "      <td>0.004126</td>\n",
       "      <td>0.026333</td>\n",
       "      <td>0.019268</td>\n",
       "      <td>-0.020532</td>\n",
       "      <td>0.014950</td>\n",
       "      <td>NaN</td>\n",
       "    </tr>\n",
       "    <tr>\n",
       "      <th>Visibility_mi</th>\n",
       "      <td>0.050170</td>\n",
       "      <td>0.009713</td>\n",
       "      <td>0.006712</td>\n",
       "      <td>-0.005286</td>\n",
       "      <td>-0.034711</td>\n",
       "      <td>0.179998</td>\n",
       "      <td>-0.310505</td>\n",
       "      <td>0.148512</td>\n",
       "      <td>1.000000</td>\n",
       "      <td>-0.024025</td>\n",
       "      <td>...</td>\n",
       "      <td>0.022543</td>\n",
       "      <td>0.079586</td>\n",
       "      <td>0.029683</td>\n",
       "      <td>-0.002127</td>\n",
       "      <td>-0.001164</td>\n",
       "      <td>-0.016077</td>\n",
       "      <td>0.000025</td>\n",
       "      <td>0.012626</td>\n",
       "      <td>-0.040115</td>\n",
       "      <td>NaN</td>\n",
       "    </tr>\n",
       "    <tr>\n",
       "      <th>Wind_Speed_mph</th>\n",
       "      <td>-0.047366</td>\n",
       "      <td>0.020977</td>\n",
       "      <td>-0.004378</td>\n",
       "      <td>0.047433</td>\n",
       "      <td>0.043553</td>\n",
       "      <td>0.053684</td>\n",
       "      <td>-0.151871</td>\n",
       "      <td>0.062430</td>\n",
       "      <td>-0.024025</td>\n",
       "      <td>1.000000</td>\n",
       "      <td>...</td>\n",
       "      <td>-0.013801</td>\n",
       "      <td>0.004643</td>\n",
       "      <td>-0.000340</td>\n",
       "      <td>-0.005329</td>\n",
       "      <td>-0.000487</td>\n",
       "      <td>-0.012327</td>\n",
       "      <td>-0.006743</td>\n",
       "      <td>0.005619</td>\n",
       "      <td>-0.008842</td>\n",
       "      <td>NaN</td>\n",
       "    </tr>\n",
       "    <tr>\n",
       "      <th>Bump</th>\n",
       "      <td>-0.010069</td>\n",
       "      <td>-0.002541</td>\n",
       "      <td>-0.020742</td>\n",
       "      <td>0.009713</td>\n",
       "      <td>0.021414</td>\n",
       "      <td>0.011342</td>\n",
       "      <td>-0.013429</td>\n",
       "      <td>-0.024329</td>\n",
       "      <td>0.014008</td>\n",
       "      <td>0.006129</td>\n",
       "      <td>...</td>\n",
       "      <td>-0.002762</td>\n",
       "      <td>-0.008208</td>\n",
       "      <td>0.269919</td>\n",
       "      <td>-0.002557</td>\n",
       "      <td>-0.000146</td>\n",
       "      <td>-0.004681</td>\n",
       "      <td>0.001670</td>\n",
       "      <td>0.955877</td>\n",
       "      <td>-0.012242</td>\n",
       "      <td>NaN</td>\n",
       "    </tr>\n",
       "    <tr>\n",
       "      <th>Crossing</th>\n",
       "      <td>0.125318</td>\n",
       "      <td>-0.046001</td>\n",
       "      <td>-0.308114</td>\n",
       "      <td>-0.338410</td>\n",
       "      <td>-0.080277</td>\n",
       "      <td>-0.009912</td>\n",
       "      <td>0.026839</td>\n",
       "      <td>0.023784</td>\n",
       "      <td>-0.024937</td>\n",
       "      <td>-0.005147</td>\n",
       "      <td>...</td>\n",
       "      <td>0.057604</td>\n",
       "      <td>-0.118147</td>\n",
       "      <td>0.117446</td>\n",
       "      <td>0.117673</td>\n",
       "      <td>0.008958</td>\n",
       "      <td>0.144303</td>\n",
       "      <td>0.202102</td>\n",
       "      <td>0.052071</td>\n",
       "      <td>0.685167</td>\n",
       "      <td>NaN</td>\n",
       "    </tr>\n",
       "    <tr>\n",
       "      <th>Give_Way</th>\n",
       "      <td>0.017083</td>\n",
       "      <td>-0.007750</td>\n",
       "      <td>-0.011877</td>\n",
       "      <td>-0.011997</td>\n",
       "      <td>-0.004578</td>\n",
       "      <td>0.002820</td>\n",
       "      <td>0.002179</td>\n",
       "      <td>0.005642</td>\n",
       "      <td>0.022543</td>\n",
       "      <td>-0.013801</td>\n",
       "      <td>...</td>\n",
       "      <td>1.000000</td>\n",
       "      <td>-0.020234</td>\n",
       "      <td>0.032338</td>\n",
       "      <td>-0.003542</td>\n",
       "      <td>-0.000379</td>\n",
       "      <td>0.008348</td>\n",
       "      <td>0.045166</td>\n",
       "      <td>-0.002889</td>\n",
       "      <td>0.036382</td>\n",
       "      <td>NaN</td>\n",
       "    </tr>\n",
       "    <tr>\n",
       "      <th>Junction</th>\n",
       "      <td>-0.055271</td>\n",
       "      <td>0.058521</td>\n",
       "      <td>0.092324</td>\n",
       "      <td>0.070189</td>\n",
       "      <td>0.015618</td>\n",
       "      <td>0.033698</td>\n",
       "      <td>-0.033311</td>\n",
       "      <td>0.015048</td>\n",
       "      <td>0.079586</td>\n",
       "      <td>0.004643</td>\n",
       "      <td>...</td>\n",
       "      <td>-0.020234</td>\n",
       "      <td>1.000000</td>\n",
       "      <td>-0.005195</td>\n",
       "      <td>-0.013116</td>\n",
       "      <td>-0.001127</td>\n",
       "      <td>-0.036017</td>\n",
       "      <td>-0.042523</td>\n",
       "      <td>-0.008587</td>\n",
       "      <td>-0.134753</td>\n",
       "      <td>NaN</td>\n",
       "    </tr>\n",
       "    <tr>\n",
       "      <th>No_Exit</th>\n",
       "      <td>0.002493</td>\n",
       "      <td>-0.007731</td>\n",
       "      <td>-0.041062</td>\n",
       "      <td>-0.031901</td>\n",
       "      <td>-0.006061</td>\n",
       "      <td>-0.002444</td>\n",
       "      <td>-0.004007</td>\n",
       "      <td>0.003584</td>\n",
       "      <td>0.029683</td>\n",
       "      <td>-0.000340</td>\n",
       "      <td>...</td>\n",
       "      <td>0.032338</td>\n",
       "      <td>-0.005195</td>\n",
       "      <td>1.000000</td>\n",
       "      <td>0.019768</td>\n",
       "      <td>-0.000429</td>\n",
       "      <td>0.031601</td>\n",
       "      <td>0.070449</td>\n",
       "      <td>0.257754</td>\n",
       "      <td>0.047771</td>\n",
       "      <td>NaN</td>\n",
       "    </tr>\n",
       "    <tr>\n",
       "      <th>Railway</th>\n",
       "      <td>0.008871</td>\n",
       "      <td>-0.006014</td>\n",
       "      <td>-0.031446</td>\n",
       "      <td>-0.026014</td>\n",
       "      <td>-0.008069</td>\n",
       "      <td>-0.011805</td>\n",
       "      <td>0.009876</td>\n",
       "      <td>0.004370</td>\n",
       "      <td>-0.002127</td>\n",
       "      <td>-0.005329</td>\n",
       "      <td>...</td>\n",
       "      <td>-0.003542</td>\n",
       "      <td>-0.013116</td>\n",
       "      <td>0.019768</td>\n",
       "      <td>1.000000</td>\n",
       "      <td>-0.000351</td>\n",
       "      <td>0.082615</td>\n",
       "      <td>0.021773</td>\n",
       "      <td>-0.002675</td>\n",
       "      <td>0.061038</td>\n",
       "      <td>NaN</td>\n",
       "    </tr>\n",
       "    <tr>\n",
       "      <th>Roundabout</th>\n",
       "      <td>-0.006432</td>\n",
       "      <td>-0.000976</td>\n",
       "      <td>-0.002848</td>\n",
       "      <td>-0.003745</td>\n",
       "      <td>-0.000848</td>\n",
       "      <td>-0.001672</td>\n",
       "      <td>0.005699</td>\n",
       "      <td>0.004126</td>\n",
       "      <td>-0.001164</td>\n",
       "      <td>-0.000487</td>\n",
       "      <td>...</td>\n",
       "      <td>-0.000379</td>\n",
       "      <td>-0.001127</td>\n",
       "      <td>-0.000429</td>\n",
       "      <td>-0.000351</td>\n",
       "      <td>1.000000</td>\n",
       "      <td>-0.000643</td>\n",
       "      <td>0.025885</td>\n",
       "      <td>-0.000153</td>\n",
       "      <td>-0.002480</td>\n",
       "      <td>NaN</td>\n",
       "    </tr>\n",
       "    <tr>\n",
       "      <th>Station</th>\n",
       "      <td>0.046819</td>\n",
       "      <td>-0.017361</td>\n",
       "      <td>-0.081205</td>\n",
       "      <td>-0.097874</td>\n",
       "      <td>-0.024903</td>\n",
       "      <td>-0.017655</td>\n",
       "      <td>0.030480</td>\n",
       "      <td>0.026333</td>\n",
       "      <td>-0.016077</td>\n",
       "      <td>-0.012327</td>\n",
       "      <td>...</td>\n",
       "      <td>0.008348</td>\n",
       "      <td>-0.036017</td>\n",
       "      <td>0.031601</td>\n",
       "      <td>0.082615</td>\n",
       "      <td>-0.000643</td>\n",
       "      <td>1.000000</td>\n",
       "      <td>0.062004</td>\n",
       "      <td>-0.004897</td>\n",
       "      <td>0.124271</td>\n",
       "      <td>NaN</td>\n",
       "    </tr>\n",
       "    <tr>\n",
       "      <th>Stop</th>\n",
       "      <td>0.030820</td>\n",
       "      <td>-0.014389</td>\n",
       "      <td>-0.108952</td>\n",
       "      <td>-0.081742</td>\n",
       "      <td>0.007666</td>\n",
       "      <td>-0.019607</td>\n",
       "      <td>0.032557</td>\n",
       "      <td>0.019268</td>\n",
       "      <td>0.000025</td>\n",
       "      <td>-0.006743</td>\n",
       "      <td>...</td>\n",
       "      <td>0.045166</td>\n",
       "      <td>-0.042523</td>\n",
       "      <td>0.070449</td>\n",
       "      <td>0.021773</td>\n",
       "      <td>0.025885</td>\n",
       "      <td>0.062004</td>\n",
       "      <td>1.000000</td>\n",
       "      <td>0.001086</td>\n",
       "      <td>-0.078582</td>\n",
       "      <td>NaN</td>\n",
       "    </tr>\n",
       "    <tr>\n",
       "      <th>Traffic_Calming</th>\n",
       "      <td>-0.010083</td>\n",
       "      <td>-0.003085</td>\n",
       "      <td>-0.016491</td>\n",
       "      <td>0.012266</td>\n",
       "      <td>0.021221</td>\n",
       "      <td>0.010218</td>\n",
       "      <td>-0.010694</td>\n",
       "      <td>-0.020532</td>\n",
       "      <td>0.012626</td>\n",
       "      <td>0.005619</td>\n",
       "      <td>...</td>\n",
       "      <td>-0.002889</td>\n",
       "      <td>-0.008587</td>\n",
       "      <td>0.257754</td>\n",
       "      <td>-0.002675</td>\n",
       "      <td>-0.000153</td>\n",
       "      <td>-0.004897</td>\n",
       "      <td>0.001086</td>\n",
       "      <td>1.000000</td>\n",
       "      <td>-0.013332</td>\n",
       "      <td>NaN</td>\n",
       "    </tr>\n",
       "    <tr>\n",
       "      <th>Traffic_Signal</th>\n",
       "      <td>0.141437</td>\n",
       "      <td>-0.052569</td>\n",
       "      <td>-0.317072</td>\n",
       "      <td>-0.359589</td>\n",
       "      <td>-0.084469</td>\n",
       "      <td>-0.004559</td>\n",
       "      <td>0.027964</td>\n",
       "      <td>0.014950</td>\n",
       "      <td>-0.040115</td>\n",
       "      <td>-0.008842</td>\n",
       "      <td>...</td>\n",
       "      <td>0.036382</td>\n",
       "      <td>-0.134753</td>\n",
       "      <td>0.047771</td>\n",
       "      <td>0.061038</td>\n",
       "      <td>-0.002480</td>\n",
       "      <td>0.124271</td>\n",
       "      <td>-0.078582</td>\n",
       "      <td>-0.013332</td>\n",
       "      <td>1.000000</td>\n",
       "      <td>NaN</td>\n",
       "    </tr>\n",
       "    <tr>\n",
       "      <th>Turning_Loop</th>\n",
       "      <td>NaN</td>\n",
       "      <td>NaN</td>\n",
       "      <td>NaN</td>\n",
       "      <td>NaN</td>\n",
       "      <td>NaN</td>\n",
       "      <td>NaN</td>\n",
       "      <td>NaN</td>\n",
       "      <td>NaN</td>\n",
       "      <td>NaN</td>\n",
       "      <td>NaN</td>\n",
       "      <td>...</td>\n",
       "      <td>NaN</td>\n",
       "      <td>NaN</td>\n",
       "      <td>NaN</td>\n",
       "      <td>NaN</td>\n",
       "      <td>NaN</td>\n",
       "      <td>NaN</td>\n",
       "      <td>NaN</td>\n",
       "      <td>NaN</td>\n",
       "      <td>NaN</td>\n",
       "      <td>NaN</td>\n",
       "    </tr>\n",
       "  </tbody>\n",
       "</table>\n",
       "<p>22 rows × 22 columns</p>\n",
       "</div>"
      ],
      "text/plain": [
       "                  Rush_Hour  Duration_in_Hour  Interstate  Severity  \\\n",
       "Rush_Hour          1.000000         -0.047480   -0.105483 -0.248535   \n",
       "Duration_in_Hour  -0.047480          1.000000   -0.011214  0.068676   \n",
       "Interstate        -0.105483         -0.011214    1.000000  0.302019   \n",
       "Severity          -0.248535          0.068676    0.302019  1.000000   \n",
       "Distance_mi       -0.079848          0.048962    0.052215  0.204072   \n",
       "Temperature_F     -0.089334          0.031803   -0.011441  0.044818   \n",
       "Humidity_percent   0.096818         -0.026255   -0.025293 -0.062342   \n",
       "Pressure_in        0.087034          0.075781   -0.213981 -0.068893   \n",
       "Visibility_mi      0.050170          0.009713    0.006712 -0.005286   \n",
       "Wind_Speed_mph    -0.047366          0.020977   -0.004378  0.047433   \n",
       "Bump              -0.010069         -0.002541   -0.020742  0.009713   \n",
       "Crossing           0.125318         -0.046001   -0.308114 -0.338410   \n",
       "Give_Way           0.017083         -0.007750   -0.011877 -0.011997   \n",
       "Junction          -0.055271          0.058521    0.092324  0.070189   \n",
       "No_Exit            0.002493         -0.007731   -0.041062 -0.031901   \n",
       "Railway            0.008871         -0.006014   -0.031446 -0.026014   \n",
       "Roundabout        -0.006432         -0.000976   -0.002848 -0.003745   \n",
       "Station            0.046819         -0.017361   -0.081205 -0.097874   \n",
       "Stop               0.030820         -0.014389   -0.108952 -0.081742   \n",
       "Traffic_Calming   -0.010083         -0.003085   -0.016491  0.012266   \n",
       "Traffic_Signal     0.141437         -0.052569   -0.317072 -0.359589   \n",
       "Turning_Loop            NaN               NaN         NaN       NaN   \n",
       "\n",
       "                  Distance_mi  Temperature_F  Humidity_percent  Pressure_in  \\\n",
       "Rush_Hour           -0.079848      -0.089334          0.096818     0.087034   \n",
       "Duration_in_Hour     0.048962       0.031803         -0.026255     0.075781   \n",
       "Interstate           0.052215      -0.011441         -0.025293    -0.213981   \n",
       "Severity             0.204072       0.044818         -0.062342    -0.068893   \n",
       "Distance_mi          1.000000      -0.009808          0.008677    -0.026448   \n",
       "Temperature_F       -0.009808       1.000000         -0.643025    -0.119968   \n",
       "Humidity_percent     0.008677      -0.643025          1.000000     0.073916   \n",
       "Pressure_in         -0.026448      -0.119968          0.073916     1.000000   \n",
       "Visibility_mi       -0.034711       0.179998         -0.310505     0.148512   \n",
       "Wind_Speed_mph       0.043553       0.053684         -0.151871     0.062430   \n",
       "Bump                 0.021414       0.011342         -0.013429    -0.024329   \n",
       "Crossing            -0.080277      -0.009912          0.026839     0.023784   \n",
       "Give_Way            -0.004578       0.002820          0.002179     0.005642   \n",
       "Junction             0.015618       0.033698         -0.033311     0.015048   \n",
       "No_Exit             -0.006061      -0.002444         -0.004007     0.003584   \n",
       "Railway             -0.008069      -0.011805          0.009876     0.004370   \n",
       "Roundabout          -0.000848      -0.001672          0.005699     0.004126   \n",
       "Station             -0.024903      -0.017655          0.030480     0.026333   \n",
       "Stop                 0.007666      -0.019607          0.032557     0.019268   \n",
       "Traffic_Calming      0.021221       0.010218         -0.010694    -0.020532   \n",
       "Traffic_Signal      -0.084469      -0.004559          0.027964     0.014950   \n",
       "Turning_Loop              NaN            NaN               NaN          NaN   \n",
       "\n",
       "                  Visibility_mi  Wind_Speed_mph  ...  Give_Way  Junction  \\\n",
       "Rush_Hour              0.050170       -0.047366  ...  0.017083 -0.055271   \n",
       "Duration_in_Hour       0.009713        0.020977  ... -0.007750  0.058521   \n",
       "Interstate             0.006712       -0.004378  ... -0.011877  0.092324   \n",
       "Severity              -0.005286        0.047433  ... -0.011997  0.070189   \n",
       "Distance_mi           -0.034711        0.043553  ... -0.004578  0.015618   \n",
       "Temperature_F          0.179998        0.053684  ...  0.002820  0.033698   \n",
       "Humidity_percent      -0.310505       -0.151871  ...  0.002179 -0.033311   \n",
       "Pressure_in            0.148512        0.062430  ...  0.005642  0.015048   \n",
       "Visibility_mi          1.000000       -0.024025  ...  0.022543  0.079586   \n",
       "Wind_Speed_mph        -0.024025        1.000000  ... -0.013801  0.004643   \n",
       "Bump                   0.014008        0.006129  ... -0.002762 -0.008208   \n",
       "Crossing              -0.024937       -0.005147  ...  0.057604 -0.118147   \n",
       "Give_Way               0.022543       -0.013801  ...  1.000000 -0.020234   \n",
       "Junction               0.079586        0.004643  ... -0.020234  1.000000   \n",
       "No_Exit                0.029683       -0.000340  ...  0.032338 -0.005195   \n",
       "Railway               -0.002127       -0.005329  ... -0.003542 -0.013116   \n",
       "Roundabout            -0.001164       -0.000487  ... -0.000379 -0.001127   \n",
       "Station               -0.016077       -0.012327  ...  0.008348 -0.036017   \n",
       "Stop                   0.000025       -0.006743  ...  0.045166 -0.042523   \n",
       "Traffic_Calming        0.012626        0.005619  ... -0.002889 -0.008587   \n",
       "Traffic_Signal        -0.040115       -0.008842  ...  0.036382 -0.134753   \n",
       "Turning_Loop                NaN             NaN  ...       NaN       NaN   \n",
       "\n",
       "                   No_Exit   Railway  Roundabout   Station      Stop  \\\n",
       "Rush_Hour         0.002493  0.008871   -0.006432  0.046819  0.030820   \n",
       "Duration_in_Hour -0.007731 -0.006014   -0.000976 -0.017361 -0.014389   \n",
       "Interstate       -0.041062 -0.031446   -0.002848 -0.081205 -0.108952   \n",
       "Severity         -0.031901 -0.026014   -0.003745 -0.097874 -0.081742   \n",
       "Distance_mi      -0.006061 -0.008069   -0.000848 -0.024903  0.007666   \n",
       "Temperature_F    -0.002444 -0.011805   -0.001672 -0.017655 -0.019607   \n",
       "Humidity_percent -0.004007  0.009876    0.005699  0.030480  0.032557   \n",
       "Pressure_in       0.003584  0.004370    0.004126  0.026333  0.019268   \n",
       "Visibility_mi     0.029683 -0.002127   -0.001164 -0.016077  0.000025   \n",
       "Wind_Speed_mph   -0.000340 -0.005329   -0.000487 -0.012327 -0.006743   \n",
       "Bump              0.269919 -0.002557   -0.000146 -0.004681  0.001670   \n",
       "Crossing          0.117446  0.117673    0.008958  0.144303  0.202102   \n",
       "Give_Way          0.032338 -0.003542   -0.000379  0.008348  0.045166   \n",
       "Junction         -0.005195 -0.013116   -0.001127 -0.036017 -0.042523   \n",
       "No_Exit           1.000000  0.019768   -0.000429  0.031601  0.070449   \n",
       "Railway           0.019768  1.000000   -0.000351  0.082615  0.021773   \n",
       "Roundabout       -0.000429 -0.000351    1.000000 -0.000643  0.025885   \n",
       "Station           0.031601  0.082615   -0.000643  1.000000  0.062004   \n",
       "Stop              0.070449  0.021773    0.025885  0.062004  1.000000   \n",
       "Traffic_Calming   0.257754 -0.002675   -0.000153 -0.004897  0.001086   \n",
       "Traffic_Signal    0.047771  0.061038   -0.002480  0.124271 -0.078582   \n",
       "Turning_Loop           NaN       NaN         NaN       NaN       NaN   \n",
       "\n",
       "                  Traffic_Calming  Traffic_Signal  Turning_Loop  \n",
       "Rush_Hour               -0.010083        0.141437           NaN  \n",
       "Duration_in_Hour        -0.003085       -0.052569           NaN  \n",
       "Interstate              -0.016491       -0.317072           NaN  \n",
       "Severity                 0.012266       -0.359589           NaN  \n",
       "Distance_mi              0.021221       -0.084469           NaN  \n",
       "Temperature_F            0.010218       -0.004559           NaN  \n",
       "Humidity_percent        -0.010694        0.027964           NaN  \n",
       "Pressure_in             -0.020532        0.014950           NaN  \n",
       "Visibility_mi            0.012626       -0.040115           NaN  \n",
       "Wind_Speed_mph           0.005619       -0.008842           NaN  \n",
       "Bump                     0.955877       -0.012242           NaN  \n",
       "Crossing                 0.052071        0.685167           NaN  \n",
       "Give_Way                -0.002889        0.036382           NaN  \n",
       "Junction                -0.008587       -0.134753           NaN  \n",
       "No_Exit                  0.257754        0.047771           NaN  \n",
       "Railway                 -0.002675        0.061038           NaN  \n",
       "Roundabout              -0.000153       -0.002480           NaN  \n",
       "Station                 -0.004897        0.124271           NaN  \n",
       "Stop                     0.001086       -0.078582           NaN  \n",
       "Traffic_Calming          1.000000       -0.013332           NaN  \n",
       "Traffic_Signal          -0.013332        1.000000           NaN  \n",
       "Turning_Loop                  NaN             NaN           NaN  \n",
       "\n",
       "[22 rows x 22 columns]"
      ]
     },
     "execution_count": 9,
     "metadata": {},
     "output_type": "execute_result"
    }
   ],
   "source": [
    "# correlation between the numeric variables\n",
    "co_accidents_df.corr()"
   ]
  },
  {
   "cell_type": "code",
   "execution_count": 10,
   "metadata": {},
   "outputs": [
    {
     "data": {
      "text/plain": [
       "<AxesSubplot:xlabel='Interstate', ylabel='Severity'>"
      ]
     },
     "execution_count": 10,
     "metadata": {},
     "output_type": "execute_result"
    },
    {
     "data": {
      "image/png": "[encoded data removed]",
      "text/plain": [
       "<Figure size 432x288 with 1 Axes>"
      ]
     },
     "metadata": {
      "needs_background": "light"
     },
     "output_type": "display_data"
    }
   ],
   "source": [
    "# let's look at the relationship between Interstate and Severity\n",
    "sns.boxplot(x=\"Interstate\", y=\"Severity\", data=co_accidents_df)"
   ]
  },
  {
   "cell_type": "code",
   "execution_count": 11,
   "metadata": {},
   "outputs": [
    {
     "data": {
      "text/plain": [
       "Interstate  Severity\n",
       "0           2           0.634424\n",
       "            3           0.272940\n",
       "            4           0.079233\n",
       "            1           0.013403\n",
       "1           3           0.714786\n",
       "            2           0.212162\n",
       "            4           0.069974\n",
       "            1           0.003079\n",
       "Name: Severity, dtype: float64"
      ]
     },
     "execution_count": 11,
     "metadata": {},
     "output_type": "execute_result"
    }
   ],
   "source": [
    "co_accidents_df.groupby(['Interstate'])['Severity'].value_counts(normalize=True)"
   ]
  },
  {
   "cell_type": "code",
   "execution_count": 12,
   "metadata": {},
   "outputs": [
    {
     "data": {
      "text/plain": [
       "<AxesSubplot:xlabel='Rush_Hour', ylabel='Severity'>"
      ]
     },
     "execution_count": 12,
     "metadata": {},
     "output_type": "execute_result"
    },
    {
     "data": {
      "image/png": "[encoded data removed]",
      "text/plain": [
       "<Figure size 432x288 with 1 Axes>"
      ]
     },
     "metadata": {
      "needs_background": "light"
     },
     "output_type": "display_data"
    }
   ],
   "source": [
    "# let's look at the relationship between Rush_Hour and Severity\n",
    "sns.boxplot(x=\"Rush_Hour\", y=\"Severity\", data=co_accidents_df)"
   ]
  },
  {
   "cell_type": "code",
   "execution_count": 13,
   "metadata": {},
   "outputs": [
    {
     "data": {
      "text/plain": [
       "Rush_Hour  Severity\n",
       "0          3           0.517583\n",
       "           2           0.335915\n",
       "           4           0.134391\n",
       "           1           0.012111\n",
       "1          2           0.599193\n",
       "           3           0.342716\n",
       "           4           0.048469\n",
       "           1           0.009622\n",
       "Name: Severity, dtype: float64"
      ]
     },
     "execution_count": 13,
     "metadata": {},
     "output_type": "execute_result"
    }
   ],
   "source": [
    "co_accidents_df.groupby(['Rush_Hour'])['Severity'].value_counts(normalize=True)"
   ]
  },
  {
   "cell_type": "code",
   "execution_count": 14,
   "metadata": {},
   "outputs": [
    {
     "data": {
      "text/plain": [
       "<AxesSubplot:xlabel='Crossing', ylabel='Severity'>"
      ]
     },
     "execution_count": 14,
     "metadata": {},
     "output_type": "execute_result"
    },
    {
     "data": {
      "image/png": "[encoded data removed]",
      "text/plain": [
       "<Figure size 432x288 with 1 Axes>"
      ]
     },
     "metadata": {
      "needs_background": "light"
     },
     "output_type": "display_data"
    }
   ],
   "source": [
    "# let's look at the relationship between Crossing and Severity\n",
    "sns.boxplot(x=\"Crossing\", y=\"Severity\", data=co_accidents_df)"
   ]
  },
  {
   "cell_type": "code",
   "execution_count": 15,
   "metadata": {},
   "outputs": [
    {
     "data": {
      "text/plain": [
       "Crossing  Severity\n",
       "False     3           0.483780\n",
       "          2           0.420108\n",
       "          4           0.088342\n",
       "          1           0.007770\n",
       "True      2           0.884094\n",
       "          3           0.065228\n",
       "          4           0.029604\n",
       "          1           0.021074\n",
       "Name: Severity, dtype: float64"
      ]
     },
     "execution_count": 15,
     "metadata": {},
     "output_type": "execute_result"
    }
   ],
   "source": [
    "co_accidents_df.groupby(['Crossing'])['Severity'].value_counts(normalize=True)"
   ]
  },
  {
   "cell_type": "code",
   "execution_count": 16,
   "metadata": {},
   "outputs": [
    {
     "data": {
      "text/plain": [
       "<AxesSubplot:xlabel='Stop', ylabel='Severity'>"
      ]
     },
     "execution_count": 16,
     "metadata": {},
     "output_type": "execute_result"
    },
    {
     "data": {
      "image/png": "[encoded data removed]",
      "text/plain": [
       "<Figure size 432x288 with 1 Axes>"
      ]
     },
     "metadata": {
      "needs_background": "light"
     },
     "output_type": "display_data"
    }
   ],
   "source": [
    "# let's look at the relationship between Stop and Severity\n",
    "sns.boxplot(x=\"Stop\", y=\"Severity\", data=co_accidents_df)"
   ]
  },
  {
   "cell_type": "code",
   "execution_count": 17,
   "metadata": {},
   "outputs": [
    {
     "data": {
      "text/plain": [
       "Stop   Severity\n",
       "False  2           0.503314\n",
       "       3           0.409801\n",
       "       4           0.076302\n",
       "       1           0.010584\n",
       "True   2           0.838509\n",
       "       4           0.085576\n",
       "       3           0.070393\n",
       "       1           0.005521\n",
       "Name: Severity, dtype: float64"
      ]
     },
     "execution_count": 17,
     "metadata": {},
     "output_type": "execute_result"
    }
   ],
   "source": [
    "co_accidents_df.groupby(['Stop'])['Severity'].value_counts(normalize=True)"
   ]
  },
  {
   "cell_type": "code",
   "execution_count": 18,
   "metadata": {},
   "outputs": [
    {
     "data": {
      "text/plain": [
       "<AxesSubplot:xlabel='Traffic_Signal', ylabel='Severity'>"
      ]
     },
     "execution_count": 18,
     "metadata": {},
     "output_type": "execute_result"
    },
    {
     "data": {
      "image/png": "[encoded data removed]",
      "text/plain": [
       "<Figure size 432x288 with 1 Axes>"
      ]
     },
     "metadata": {
      "needs_background": "light"
     },
     "output_type": "display_data"
    }
   ],
   "source": [
    "# let's look at the relationship between Traffic_Signal and Severity\n",
    "sns.boxplot(x=\"Traffic_Signal\", y=\"Severity\", data=co_accidents_df)"
   ]
  },
  {
   "cell_type": "code",
   "execution_count": 19,
   "metadata": {},
   "outputs": [
    {
     "data": {
      "text/plain": [
       "Traffic_Signal  Severity\n",
       "False           3           0.498818\n",
       "                2           0.405813\n",
       "                4           0.089460\n",
       "                1           0.005908\n",
       "True            2           0.863828\n",
       "                3           0.076500\n",
       "                4           0.034429\n",
       "                1           0.025243\n",
       "Name: Severity, dtype: float64"
      ]
     },
     "execution_count": 19,
     "metadata": {},
     "output_type": "execute_result"
    }
   ],
   "source": [
    "co_accidents_df.groupby(['Traffic_Signal'])['Severity'].value_counts(normalize=True)"
   ]
  },
  {
   "cell_type": "code",
   "execution_count": 20,
   "metadata": {},
   "outputs": [
    {
     "data": {
      "text/plain": [
       "<AxesSubplot:xlabel='Junction', ylabel='Severity'>"
      ]
     },
     "execution_count": 20,
     "metadata": {},
     "output_type": "execute_result"
    },
    {
     "data": {
      "image/png": "[encoded data removed]",
      "text/plain": [
       "<Figure size 432x288 with 1 Axes>"
      ]
     },
     "metadata": {
      "needs_background": "light"
     },
     "output_type": "display_data"
    }
   ],
   "source": [
    "# let's look at the relationship between Junction and Severity\n",
    "sns.boxplot(x=\"Junction\", y=\"Severity\", data=co_accidents_df)"
   ]
  },
  {
   "cell_type": "code",
   "execution_count": 21,
   "metadata": {},
   "outputs": [
    {
     "data": {
      "text/plain": [
       "Junction  Severity\n",
       "False     2           0.522244\n",
       "          3           0.392864\n",
       "          4           0.074396\n",
       "          1           0.010497\n",
       "True      3           0.511510\n",
       "          2           0.367976\n",
       "          4           0.111036\n",
       "          1           0.009479\n",
       "Name: Severity, dtype: float64"
      ]
     },
     "execution_count": 21,
     "metadata": {},
     "output_type": "execute_result"
    }
   ],
   "source": [
    "co_accidents_df.groupby(['Junction'])['Severity'].value_counts(normalize=True)"
   ]
  },
  {
   "cell_type": "code",
   "execution_count": 22,
   "metadata": {},
   "outputs": [
    {
     "data": {
      "text/plain": [
       "<AxesSubplot:xlabel='Give_Way', ylabel='Severity'>"
      ]
     },
     "execution_count": 22,
     "metadata": {},
     "output_type": "execute_result"
    },
    {
     "data": {
      "image/png": "[encoded data removed]",
      "text/plain": [
       "<Figure size 432x288 with 1 Axes>"
      ]
     },
     "metadata": {
      "needs_background": "light"
     },
     "output_type": "display_data"
    }
   ],
   "source": [
    "# let's look at the relationship between Give_Way and Severity\n",
    "sns.boxplot(x=\"Give_Way\", y=\"Severity\", data=co_accidents_df)"
   ]
  },
  {
   "cell_type": "code",
   "execution_count": 23,
   "metadata": {},
   "outputs": [
    {
     "data": {
      "text/plain": [
       "Give_Way  Severity\n",
       "False     2           0.512374\n",
       "          3           0.400563\n",
       "          4           0.076593\n",
       "          1           0.010470\n",
       "True      2           0.611898\n",
       "          3           0.308782\n",
       "          4           0.073654\n",
       "          1           0.005666\n",
       "Name: Severity, dtype: float64"
      ]
     },
     "execution_count": 23,
     "metadata": {},
     "output_type": "execute_result"
    }
   ],
   "source": [
    "co_accidents_df.groupby(['Give_Way'])['Severity'].value_counts(normalize=True)"
   ]
  },
  {
   "cell_type": "code",
   "execution_count": 24,
   "metadata": {},
   "outputs": [
    {
     "data": {
      "text/plain": [
       "<AxesSubplot:xlabel='Duration_in_Hour', ylabel='Severity'>"
      ]
     },
     "execution_count": 24,
     "metadata": {},
     "output_type": "execute_result"
    },
    {
     "data": {
      "image/png": "[encoded data removed]",
      "text/plain": [
       "<Figure size 720x360 with 1 Axes>"
      ]
     },
     "metadata": {
      "needs_background": "light"
     },
     "output_type": "display_data"
    }
   ],
   "source": [
    "# let's visualize the relationship between Duration_in_Hour and Severity\n",
    "co_accidents_df.plot(kind='scatter',x='Duration_in_Hour', y='Severity', figsize=(10,5))"
   ]
  },
  {
   "cell_type": "code",
   "execution_count": 25,
   "metadata": {},
   "outputs": [
    {
     "data": {
      "text/plain": [
       "<AxesSubplot:xlabel='Distance_mi', ylabel='Severity'>"
      ]
     },
     "execution_count": 25,
     "metadata": {},
     "output_type": "execute_result"
    },
    {
     "data": {
      "image/png": "[encoded data removed]",
      "text/plain": [
       "<Figure size 720x360 with 1 Axes>"
      ]
     },
     "metadata": {
      "needs_background": "light"
     },
     "output_type": "display_data"
    }
   ],
   "source": [
    "# let's visualize the relationship between Distance_mi and Severity\n",
    "co_accidents_df.plot(kind='scatter',x='Distance_mi', y='Severity', figsize=(10,5))"
   ]
  },
  {
   "cell_type": "code",
   "execution_count": 26,
   "metadata": {},
   "outputs": [
    {
     "data": {
      "text/plain": [
       "<AxesSubplot:xlabel='Visibility_mi', ylabel='Severity'>"
      ]
     },
     "execution_count": 26,
     "metadata": {},
     "output_type": "execute_result"
    },
    {
     "data": {
      "image/png": "[encoded data removed]",
      "text/plain": [
       "<Figure size 720x360 with 1 Axes>"
      ]
     },
     "metadata": {
      "needs_background": "light"
     },
     "output_type": "display_data"
    }
   ],
   "source": [
    "# let's visualize the relationship between Visibility_mi and Severity\n",
    "co_accidents_df.plot(kind='scatter',x='Visibility_mi', y='Severity', figsize=(10,5))"
   ]
  },
  {
   "cell_type": "code",
   "execution_count": 27,
   "metadata": {},
   "outputs": [
    {
     "data": {
      "text/plain": [
       "<AxesSubplot:xlabel='Wind_Speed_mph', ylabel='Severity'>"
      ]
     },
     "execution_count": 27,
     "metadata": {},
     "output_type": "execute_result"
    },
    {
     "data": {
      "image/png": "[encoded data removed]",
      "text/plain": [
       "<Figure size 720x360 with 1 Axes>"
      ]
     },
     "metadata": {
      "needs_background": "light"
     },
     "output_type": "display_data"
    }
   ],
   "source": [
    "# let's visualize the relationship between Wind_Speed_mph and Severity\n",
    "co_accidents_df.plot(kind='scatter',x='Wind_Speed_mph', y='Severity', figsize=(10,5))"
   ]
  },
  {
   "cell_type": "code",
   "execution_count": 28,
   "metadata": {},
   "outputs": [
    {
     "data": {
      "text/plain": [
       "<AxesSubplot:xlabel='Temperature_F', ylabel='Severity'>"
      ]
     },
     "execution_count": 28,
     "metadata": {},
     "output_type": "execute_result"
    },
    {
     "data": {
      "image/png": "[encoded data removed]",
      "text/plain": [
       "<Figure size 720x360 with 1 Axes>"
      ]
     },
     "metadata": {
      "needs_background": "light"
     },
     "output_type": "display_data"
    }
   ],
   "source": [
    "# let's visualize the relationship between Temperature_F and Severity\n",
    "co_accidents_df.plot(kind='scatter',x='Temperature_F', y='Severity', figsize=(10,5))"
   ]
  },
  {
   "cell_type": "code",
   "execution_count": 29,
   "metadata": {},
   "outputs": [
    {
     "data": {
      "text/plain": [
       "<AxesSubplot:xlabel='Humidity_percent', ylabel='Severity'>"
      ]
     },
     "execution_count": 29,
     "metadata": {},
     "output_type": "execute_result"
    },
    {
     "data": {
      "image/png": "[encoded data removed]",
      "text/plain": [
       "<Figure size 720x360 with 1 Axes>"
      ]
     },
     "metadata": {
      "needs_background": "light"
     },
     "output_type": "display_data"
    }
   ],
   "source": [
    "# let's visualize the relationship between Humidity_percent and Severity\n",
    "co_accidents_df.plot(kind='scatter',x='Humidity_percent', y='Severity', figsize=(10,5))"
   ]
  },
  {
   "cell_type": "code",
   "execution_count": 30,
   "metadata": {},
   "outputs": [
    {
     "data": {
      "text/plain": [
       "<AxesSubplot:xlabel='Pressure_in', ylabel='Severity'>"
      ]
     },
     "execution_count": 30,
     "metadata": {},
     "output_type": "execute_result"
    },
    {
     "data": {
      "image/png": "[encoded data removed]",
      "text/plain": [
       "<Figure size 720x360 with 1 Axes>"
      ]
     },
     "metadata": {
      "needs_background": "light"
     },
     "output_type": "display_data"
    }
   ],
   "source": [
    "# let's visualize the relationship between Pressure_in and Severity\n",
    "co_accidents_df.plot(kind='scatter',x='Pressure_in', y='Severity', figsize=(10,5))"
   ]
  },
  {
   "cell_type": "code",
   "execution_count": 31,
   "metadata": {},
   "outputs": [
    {
     "data": {
      "text/plain": [
       "<AxesSubplot:xlabel='Bump', ylabel='Severity'>"
      ]
     },
     "execution_count": 31,
     "metadata": {},
     "output_type": "execute_result"
    },
    {
     "data": {
      "image/png": "[encoded data removed]",
      "text/plain": [
       "<Figure size 432x288 with 1 Axes>"
      ]
     },
     "metadata": {
      "needs_background": "light"
     },
     "output_type": "display_data"
    }
   ],
   "source": [
    "# let's look at the relationship between Bump and Severity\n",
    "sns.boxplot(x=\"Bump\", y=\"Severity\", data=co_accidents_df)"
   ]
  },
  {
   "cell_type": "code",
   "execution_count": 32,
   "metadata": {},
   "outputs": [
    {
     "data": {
      "text/plain": [
       "Bump   Severity\n",
       "False  2           0.513346\n",
       "       3           0.399553\n",
       "       4           0.076654\n",
       "       1           0.010447\n",
       "True   3           0.735849\n",
       "       2           0.264151\n",
       "Name: Severity, dtype: float64"
      ]
     },
     "execution_count": 32,
     "metadata": {},
     "output_type": "execute_result"
    }
   ],
   "source": [
    "co_accidents_df.groupby(['Bump'])['Severity'].value_counts(normalize=True)"
   ]
  },
  {
   "cell_type": "code",
   "execution_count": 33,
   "metadata": {},
   "outputs": [
    {
     "data": {
      "text/plain": [
       "<AxesSubplot:xlabel='No_Exit', ylabel='Severity'>"
      ]
     },
     "execution_count": 33,
     "metadata": {},
     "output_type": "execute_result"
    },
    {
     "data": {
      "image/png": "[encoded data removed]",
      "text/plain": [
       "<Figure size 432x288 with 1 Axes>"
      ]
     },
     "metadata": {
      "needs_background": "light"
     },
     "output_type": "display_data"
    }
   ],
   "source": [
    "# let's look at the relationship between No_Exit and Severity\n",
    "sns.boxplot(x=\"No_Exit\", y=\"Severity\", data=co_accidents_df)"
   ]
  },
  {
   "cell_type": "code",
   "execution_count": 34,
   "metadata": {},
   "outputs": [
    {
     "data": {
      "text/plain": [
       "No_Exit  Severity\n",
       "False    2           0.511506\n",
       "         3           0.401218\n",
       "         4           0.076887\n",
       "         1           0.010390\n",
       "True     2           0.685144\n",
       "         3           0.257206\n",
       "         4           0.042129\n",
       "         1           0.015521\n",
       "Name: Severity, dtype: float64"
      ]
     },
     "execution_count": 34,
     "metadata": {},
     "output_type": "execute_result"
    }
   ],
   "source": [
    "co_accidents_df.groupby(['No_Exit'])['Severity'].value_counts(normalize=True)"
   ]
  },
  {
   "cell_type": "code",
   "execution_count": 35,
   "metadata": {},
   "outputs": [
    {
     "data": {
      "text/plain": [
       "<AxesSubplot:xlabel='Railway', ylabel='Severity'>"
      ]
     },
     "execution_count": 35,
     "metadata": {},
     "output_type": "execute_result"
    },
    {
     "data": {
      "image/png": "[encoded data removed]",
      "text/plain": [
       "<Figure size 432x288 with 1 Axes>"
      ]
     },
     "metadata": {
      "needs_background": "light"
     },
     "output_type": "display_data"
    }
   ],
   "source": [
    "# let's look at the relationship between Railway and Severity\n",
    "sns.boxplot(x=\"Railway\", y=\"Severity\", data=co_accidents_df)"
   ]
  },
  {
   "cell_type": "code",
   "execution_count": 36,
   "metadata": {},
   "outputs": [
    {
     "data": {
      "text/plain": [
       "Railway  Severity\n",
       "False    2           0.511734\n",
       "         3           0.401331\n",
       "         4           0.076515\n",
       "         1           0.010419\n",
       "True     2           0.732673\n",
       "         3           0.168317\n",
       "         4           0.085809\n",
       "         1           0.013201\n",
       "Name: Severity, dtype: float64"
      ]
     },
     "execution_count": 36,
     "metadata": {},
     "output_type": "execute_result"
    }
   ],
   "source": [
    "co_accidents_df.groupby(['Railway'])['Severity'].value_counts(normalize=True)"
   ]
  },
  {
   "cell_type": "code",
   "execution_count": 37,
   "metadata": {},
   "outputs": [
    {
     "data": {
      "text/plain": [
       "<AxesSubplot:xlabel='Roundabout', ylabel='Severity'>"
      ]
     },
     "execution_count": 37,
     "metadata": {},
     "output_type": "execute_result"
    },
    {
     "data": {
      "image/png": "[encoded data removed]",
      "text/plain": [
       "<Figure size 432x288 with 1 Axes>"
      ]
     },
     "metadata": {
      "needs_background": "light"
     },
     "output_type": "display_data"
    }
   ],
   "source": [
    "# let's look at the relationship between Roundabout and Severity\n",
    "sns.boxplot(x=\"Roundabout\", y=\"Severity\", data=co_accidents_df)"
   ]
  },
  {
   "cell_type": "code",
   "execution_count": 38,
   "metadata": {},
   "outputs": [
    {
     "data": {
      "text/plain": [
       "Roundabout  Severity\n",
       "False       2           0.513071\n",
       "            3           0.399920\n",
       "            4           0.076573\n",
       "            1           0.010436\n",
       "True        2           1.000000\n",
       "Name: Severity, dtype: float64"
      ]
     },
     "execution_count": 38,
     "metadata": {},
     "output_type": "execute_result"
    }
   ],
   "source": [
    "co_accidents_df.groupby(['Roundabout'])['Severity'].value_counts(normalize=True)"
   ]
  },
  {
   "cell_type": "code",
   "execution_count": 39,
   "metadata": {},
   "outputs": [
    {
     "data": {
      "text/plain": [
       "<AxesSubplot:xlabel='Station', ylabel='Severity'>"
      ]
     },
     "execution_count": 39,
     "metadata": {},
     "output_type": "execute_result"
    },
    {
     "data": {
      "image/png": "[encoded data removed]",
      "text/plain": [
       "<Figure size 432x288 with 1 Axes>"
      ]
     },
     "metadata": {
      "needs_background": "light"
     },
     "output_type": "display_data"
    }
   ],
   "source": [
    "# let's look at the relationship between Station and Severity\n",
    "sns.boxplot(x=\"Station\", y=\"Severity\", data=co_accidents_df)"
   ]
  },
  {
   "cell_type": "code",
   "execution_count": 40,
   "metadata": {},
   "outputs": [
    {
     "data": {
      "text/plain": [
       "Station  Severity\n",
       "False    2           0.505110\n",
       "         3           0.407080\n",
       "         4           0.077488\n",
       "         1           0.010322\n",
       "True     2           0.901099\n",
       "         3           0.050949\n",
       "         4           0.031968\n",
       "         1           0.015984\n",
       "Name: Severity, dtype: float64"
      ]
     },
     "execution_count": 40,
     "metadata": {},
     "output_type": "execute_result"
    }
   ],
   "source": [
    "co_accidents_df.groupby(['Station'])['Severity'].value_counts(normalize=True)"
   ]
  },
  {
   "cell_type": "code",
   "execution_count": 41,
   "metadata": {},
   "outputs": [
    {
     "data": {
      "text/plain": [
       "<AxesSubplot:xlabel='Traffic_Calming', ylabel='Severity'>"
      ]
     },
     "execution_count": 41,
     "metadata": {},
     "output_type": "execute_result"
    },
    {
     "data": {
      "image/png": "[encoded data removed]",
      "text/plain": [
       "<Figure size 432x288 with 1 Axes>"
      ]
     },
     "metadata": {
      "needs_background": "light"
     },
     "output_type": "display_data"
    }
   ],
   "source": [
    "# let's look at the relationship between Traffic_Calming and Severity\n",
    "sns.boxplot(x=\"Traffic_Calming\", y=\"Severity\", data=co_accidents_df)"
   ]
  },
  {
   "cell_type": "code",
   "execution_count": 42,
   "metadata": {},
   "outputs": [
    {
     "data": {
      "text/plain": [
       "Traffic_Calming  Severity\n",
       "False            2           0.513398\n",
       "                 3           0.399513\n",
       "                 4           0.076641\n",
       "                 1           0.010448\n",
       "True             3           0.741379\n",
       "                 2           0.241379\n",
       "                 4           0.017241\n",
       "Name: Severity, dtype: float64"
      ]
     },
     "execution_count": 42,
     "metadata": {},
     "output_type": "execute_result"
    }
   ],
   "source": [
    "co_accidents_df.groupby(['Traffic_Calming'])['Severity'].value_counts(normalize=True)"
   ]
  },
  {
   "cell_type": "code",
   "execution_count": 43,
   "metadata": {},
   "outputs": [
    {
     "data": {
      "text/plain": [
       "<AxesSubplot:xlabel='Turning_Loop', ylabel='Severity'>"
      ]
     },
     "execution_count": 43,
     "metadata": {},
     "output_type": "execute_result"
    },
    {
     "data": {
      "image/png": "[encoded data removed]",
      "text/plain": [
       "<Figure size 432x288 with 1 Axes>"
      ]
     },
     "metadata": {
      "needs_background": "light"
     },
     "output_type": "display_data"
    }
   ],
   "source": [
    "# let's look at the relationship between Turning_Loop and Severity\n",
    "sns.boxplot(x=\"Turning_Loop\", y=\"Severity\", data=co_accidents_df)"
   ]
  },
  {
   "cell_type": "code",
   "execution_count": 44,
   "metadata": {},
   "outputs": [
    {
     "data": {
      "text/plain": [
       "<AxesSubplot:xlabel='Astronomical_Twilight', ylabel='Severity'>"
      ]
     },
     "execution_count": 44,
     "metadata": {},
     "output_type": "execute_result"
    },
    {
     "data": {
      "image/png": "[encoded data removed]",
      "text/plain": [
       "<Figure size 432x288 with 1 Axes>"
      ]
     },
     "metadata": {
      "needs_background": "light"
     },
     "output_type": "display_data"
    }
   ],
   "source": [
    "# let's look at the relationship between Astronomical_Twilight and Severity\n",
    "sns.boxplot(x=\"Astronomical_Twilight\", y=\"Severity\", data=co_accidents_df) "
   ]
  },
  {
   "cell_type": "code",
   "execution_count": 45,
   "metadata": {},
   "outputs": [
    {
     "data": {
      "text/plain": [
       "Astronomical_Twilight  Severity\n",
       "Day                    2           0.530876\n",
       "                       3           0.392490\n",
       "                       4           0.065200\n",
       "                       1           0.011434\n",
       "Night                  3           0.469948\n",
       "                       2           0.345759\n",
       "                       4           0.183246\n",
       "                       1           0.001047\n",
       "Name: Severity, dtype: float64"
      ]
     },
     "execution_count": 45,
     "metadata": {},
     "output_type": "execute_result"
    }
   ],
   "source": [
    "co_accidents_df.groupby(['Astronomical_Twilight'])['Severity'].value_counts(normalize=True)"
   ]
  },
  {
   "cell_type": "code",
   "execution_count": 46,
   "metadata": {},
   "outputs": [
    {
     "data": {
      "text/html": [
       "<div>\n",
       "<style scoped>\n",
       "    .dataframe tbody tr th:only-of-type {\n",
       "        vertical-align: middle;\n",
       "    }\n",
       "\n",
       "    .dataframe tbody tr th {\n",
       "        vertical-align: top;\n",
       "    }\n",
       "\n",
       "    .dataframe thead th {\n",
       "        text-align: right;\n",
       "    }\n",
       "</style>\n",
       "<table border=\"1\" class=\"dataframe\">\n",
       "  <thead>\n",
       "    <tr style=\"text-align: right;\">\n",
       "      <th></th>\n",
       "      <th>Duration_in_Hour</th>\n",
       "      <th>Interstate</th>\n",
       "      <th>Distance_mi</th>\n",
       "      <th>Crossing</th>\n",
       "      <th>Give_Way</th>\n",
       "      <th>Railway</th>\n",
       "      <th>Station</th>\n",
       "      <th>Stop</th>\n",
       "      <th>Traffic_Calming</th>\n",
       "      <th>Traffic_Signal</th>\n",
       "    </tr>\n",
       "  </thead>\n",
       "  <tbody>\n",
       "    <tr>\n",
       "      <th>0</th>\n",
       "      <td>2.26</td>\n",
       "      <td>0</td>\n",
       "      <td>0.00</td>\n",
       "      <td>False</td>\n",
       "      <td>False</td>\n",
       "      <td>False</td>\n",
       "      <td>False</td>\n",
       "      <td>False</td>\n",
       "      <td>False</td>\n",
       "      <td>False</td>\n",
       "    </tr>\n",
       "    <tr>\n",
       "      <th>1</th>\n",
       "      <td>0.49</td>\n",
       "      <td>1</td>\n",
       "      <td>0.00</td>\n",
       "      <td>False</td>\n",
       "      <td>False</td>\n",
       "      <td>False</td>\n",
       "      <td>False</td>\n",
       "      <td>False</td>\n",
       "      <td>False</td>\n",
       "      <td>False</td>\n",
       "    </tr>\n",
       "    <tr>\n",
       "      <th>2</th>\n",
       "      <td>1.49</td>\n",
       "      <td>1</td>\n",
       "      <td>0.00</td>\n",
       "      <td>False</td>\n",
       "      <td>False</td>\n",
       "      <td>False</td>\n",
       "      <td>False</td>\n",
       "      <td>False</td>\n",
       "      <td>False</td>\n",
       "      <td>False</td>\n",
       "    </tr>\n",
       "    <tr>\n",
       "      <th>3</th>\n",
       "      <td>0.99</td>\n",
       "      <td>0</td>\n",
       "      <td>0.00</td>\n",
       "      <td>True</td>\n",
       "      <td>True</td>\n",
       "      <td>False</td>\n",
       "      <td>False</td>\n",
       "      <td>False</td>\n",
       "      <td>False</td>\n",
       "      <td>True</td>\n",
       "    </tr>\n",
       "    <tr>\n",
       "      <th>4</th>\n",
       "      <td>0.49</td>\n",
       "      <td>0</td>\n",
       "      <td>7.25</td>\n",
       "      <td>False</td>\n",
       "      <td>False</td>\n",
       "      <td>False</td>\n",
       "      <td>False</td>\n",
       "      <td>False</td>\n",
       "      <td>False</td>\n",
       "      <td>False</td>\n",
       "    </tr>\n",
       "  </tbody>\n",
       "</table>\n",
       "</div>"
      ],
      "text/plain": [
       "   Duration_in_Hour  Interstate  Distance_mi  Crossing  Give_Way  Railway  \\\n",
       "0              2.26           0         0.00     False     False    False   \n",
       "1              0.49           1         0.00     False     False    False   \n",
       "2              1.49           1         0.00     False     False    False   \n",
       "3              0.99           0         0.00      True      True    False   \n",
       "4              0.49           0         7.25     False     False    False   \n",
       "\n",
       "   Station   Stop  Traffic_Calming  Traffic_Signal  \n",
       "0    False  False            False           False  \n",
       "1    False  False            False           False  \n",
       "2    False  False            False           False  \n",
       "3    False  False            False            True  \n",
       "4    False  False            False           False  "
      ]
     },
     "execution_count": 46,
     "metadata": {},
     "output_type": "execute_result"
    }
   ],
   "source": [
    "# Feature selection (based on the output of above data analysis, 10 features are selected)\n",
    "Feature = co_accidents_df[['Duration_in_Hour','Interstate','Distance_mi','Crossing','Give_Way','Railway','Station','Stop','Traffic_Calming','Traffic_Signal']]\n",
    "Feature.head()"
   ]
  },
  {
   "cell_type": "code",
   "execution_count": 47,
   "metadata": {},
   "outputs": [
    {
     "data": {
      "text/html": [
       "<div>\n",
       "<style scoped>\n",
       "    .dataframe tbody tr th:only-of-type {\n",
       "        vertical-align: middle;\n",
       "    }\n",
       "\n",
       "    .dataframe tbody tr th {\n",
       "        vertical-align: top;\n",
       "    }\n",
       "\n",
       "    .dataframe thead th {\n",
       "        text-align: right;\n",
       "    }\n",
       "</style>\n",
       "<table border=\"1\" class=\"dataframe\">\n",
       "  <thead>\n",
       "    <tr style=\"text-align: right;\">\n",
       "      <th></th>\n",
       "      <th>Duration_in_Hour</th>\n",
       "      <th>Interstate</th>\n",
       "      <th>Distance_mi</th>\n",
       "      <th>Crossing</th>\n",
       "      <th>Give_Way</th>\n",
       "      <th>Railway</th>\n",
       "      <th>Station</th>\n",
       "      <th>Stop</th>\n",
       "      <th>Traffic_Calming</th>\n",
       "      <th>Traffic_Signal</th>\n",
       "    </tr>\n",
       "  </thead>\n",
       "  <tbody>\n",
       "    <tr>\n",
       "      <th>0</th>\n",
       "      <td>2.26</td>\n",
       "      <td>0</td>\n",
       "      <td>0.00</td>\n",
       "      <td>False</td>\n",
       "      <td>False</td>\n",
       "      <td>False</td>\n",
       "      <td>False</td>\n",
       "      <td>False</td>\n",
       "      <td>False</td>\n",
       "      <td>False</td>\n",
       "    </tr>\n",
       "    <tr>\n",
       "      <th>1</th>\n",
       "      <td>0.49</td>\n",
       "      <td>1</td>\n",
       "      <td>0.00</td>\n",
       "      <td>False</td>\n",
       "      <td>False</td>\n",
       "      <td>False</td>\n",
       "      <td>False</td>\n",
       "      <td>False</td>\n",
       "      <td>False</td>\n",
       "      <td>False</td>\n",
       "    </tr>\n",
       "    <tr>\n",
       "      <th>2</th>\n",
       "      <td>1.49</td>\n",
       "      <td>1</td>\n",
       "      <td>0.00</td>\n",
       "      <td>False</td>\n",
       "      <td>False</td>\n",
       "      <td>False</td>\n",
       "      <td>False</td>\n",
       "      <td>False</td>\n",
       "      <td>False</td>\n",
       "      <td>False</td>\n",
       "    </tr>\n",
       "    <tr>\n",
       "      <th>3</th>\n",
       "      <td>0.99</td>\n",
       "      <td>0</td>\n",
       "      <td>0.00</td>\n",
       "      <td>True</td>\n",
       "      <td>True</td>\n",
       "      <td>False</td>\n",
       "      <td>False</td>\n",
       "      <td>False</td>\n",
       "      <td>False</td>\n",
       "      <td>True</td>\n",
       "    </tr>\n",
       "    <tr>\n",
       "      <th>4</th>\n",
       "      <td>0.49</td>\n",
       "      <td>0</td>\n",
       "      <td>7.25</td>\n",
       "      <td>False</td>\n",
       "      <td>False</td>\n",
       "      <td>False</td>\n",
       "      <td>False</td>\n",
       "      <td>False</td>\n",
       "      <td>False</td>\n",
       "      <td>False</td>\n",
       "    </tr>\n",
       "  </tbody>\n",
       "</table>\n",
       "</div>"
      ],
      "text/plain": [
       "   Duration_in_Hour  Interstate  Distance_mi  Crossing  Give_Way  Railway  \\\n",
       "0              2.26           0         0.00     False     False    False   \n",
       "1              0.49           1         0.00     False     False    False   \n",
       "2              1.49           1         0.00     False     False    False   \n",
       "3              0.99           0         0.00      True      True    False   \n",
       "4              0.49           0         7.25     False     False    False   \n",
       "\n",
       "   Station   Stop  Traffic_Calming  Traffic_Signal  \n",
       "0    False  False            False           False  \n",
       "1    False  False            False           False  \n",
       "2    False  False            False           False  \n",
       "3    False  False            False            True  \n",
       "4    False  False            False           False  "
      ]
     },
     "execution_count": 47,
     "metadata": {},
     "output_type": "execute_result"
    }
   ],
   "source": [
    "# Lets defind feature sets, X:\n",
    "X=Feature\n",
    "X[0:5]"
   ]
  },
  {
   "cell_type": "code",
   "execution_count": 48,
   "metadata": {},
   "outputs": [
    {
     "data": {
      "text/plain": [
       "array([2, 3, 3, 2, 2])"
      ]
     },
     "execution_count": 48,
     "metadata": {},
     "output_type": "execute_result"
    }
   ],
   "source": [
    "# y is defined as our labels\n",
    "y=co_accidents_df['Severity'].values\n",
    "y[0:5]"
   ]
  },
  {
   "cell_type": "code",
   "execution_count": 49,
   "metadata": {},
   "outputs": [
    {
     "name": "stderr",
     "output_type": "stream",
     "text": [
      "/home/jupyterlab/conda/envs/python/lib/python3.6/site-packages/sklearn/preprocessing/data.py:625: DataConversionWarning: Data with input dtype bool, int64, float64 were all converted to float64 by StandardScaler.\n",
      "  return self.partial_fit(X, y)\n",
      "/home/jupyterlab/conda/envs/python/lib/python3.6/site-packages/ipykernel_launcher.py:2: DataConversionWarning: Data with input dtype bool, int64, float64 were all converted to float64 by StandardScaler.\n",
      "  \n"
     ]
    },
    {
     "data": {
      "text/plain": [
       "array([[ 0.25899939, -0.63501569, -0.18902164, -0.50059061, -0.08455136,\n",
       "        -0.07829514, -0.14332397, -0.17323736, -0.03417069, -0.55301353],\n",
       "       [-0.22859384,  1.57476425, -0.18902164, -0.50059061, -0.08455136,\n",
       "        -0.07829514, -0.14332397, -0.17323736, -0.03417069, -0.55301353],\n",
       "       [ 0.04688256,  1.57476425, -0.18902164, -0.50059061, -0.08455136,\n",
       "        -0.07829514, -0.14332397, -0.17323736, -0.03417069, -0.55301353],\n",
       "       [-0.09085564, -0.63501569, -0.18902164,  1.99764035, 11.82713067,\n",
       "        -0.07829514, -0.14332397, -0.17323736, -0.03417069,  1.80827401],\n",
       "       [-0.22859384, -0.63501569,  2.3205886 , -0.50059061, -0.08455136,\n",
       "        -0.07829514, -0.14332397, -0.17323736, -0.03417069, -0.55301353]])"
      ]
     },
     "execution_count": 49,
     "metadata": {},
     "output_type": "execute_result"
    }
   ],
   "source": [
    "# Normalize Data / Data Standardization\n",
    "X= preprocessing.StandardScaler().fit(X).transform(X)\n",
    "X[0:5]"
   ]
  },
  {
   "cell_type": "code",
   "execution_count": 50,
   "metadata": {},
   "outputs": [],
   "source": [
    "from sklearn.metrics import jaccard_similarity_score\n",
    "from sklearn.metrics import f1_score\n",
    "from sklearn.metrics import log_loss\n",
    "from sklearn.model_selection import train_test_split"
   ]
  },
  {
   "cell_type": "code",
   "execution_count": 51,
   "metadata": {},
   "outputs": [],
   "source": [
    "# Split the data into train set and test set\n",
    "X_train, X_test, y_train, y_test=train_test_split(X,y,test_size=0.2, random_state=4)"
   ]
  },
  {
   "cell_type": "code",
   "execution_count": 52,
   "metadata": {},
   "outputs": [
    {
     "name": "stdout",
     "output_type": "stream",
     "text": [
      "The best accuracy was  0.7469588820749975 with k= 13\n"
     ]
    }
   ],
   "source": [
    "# K Nearest Neighbor(KNN) Algorithm\n",
    "from sklearn.neighbors import KNeighborsClassifier\n",
    "from sklearn import metrics\n",
    "k=15\n",
    "mean_acc=np.zeros((k-1))\n",
    "std_acc=np.zeros((k-1))\n",
    "ConfusionMx=[]\n",
    "for n in range(1,k):\n",
    "    neigh=KNeighborsClassifier(n_neighbors=n).fit(X_train, y_train)\n",
    "    yhat=neigh.predict(X_test)\n",
    "    mean_acc[n-1]=metrics.accuracy_score(y_test, yhat)\n",
    "    std_acc[n-1]=np.std(yhat==y_test)/np.sqrt(yhat.shape[0])\n",
    "mean_acc\n",
    "print(\"The best accuracy was \", mean_acc.max(), \"with k=\", mean_acc.argmax()+1)"
   ]
  },
  {
   "cell_type": "code",
   "execution_count": 53,
   "metadata": {},
   "outputs": [
    {
     "data": {
      "image/png": "[encoded data removed]",
      "text/plain": [
       "<Figure size 432x288 with 1 Axes>"
      ]
     },
     "metadata": {
      "needs_background": "light"
     },
     "output_type": "display_data"
    }
   ],
   "source": [
    "plt.plot(range(1,k),mean_acc,'g')\n",
    "plt.fill_between(range(1,k),mean_acc - 1 * std_acc,mean_acc + 1 * std_acc, alpha=0.10)\n",
    "plt.legend(('Accuracy ', '+/- 3xstd'))\n",
    "plt.ylabel('Accuracy ')\n",
    "plt.xlabel('Number of Neighbors (K)')\n",
    "plt.tight_layout()\n",
    "plt.show()"
   ]
  },
  {
   "cell_type": "code",
   "execution_count": 54,
   "metadata": {},
   "outputs": [
    {
     "name": "stdout",
     "output_type": "stream",
     "text": [
      "KNN's Accuracy:  0.7469588820749975\n",
      "jaccard:  0.7469588820749975\n",
      "f1 score:  0.7389155921811446\n"
     ]
    }
   ],
   "source": [
    "k=13\n",
    "neigh=KNeighborsClassifier(n_neighbors=k).fit(X_train, y_train)\n",
    "yhat=neigh.predict(X_test)\n",
    "knn_jacc=jaccard_similarity_score(y_test, yhat)\n",
    "knn_f1=f1_score(y_test, yhat, average='weighted')\n",
    "print(\"KNN's Accuracy: \", metrics.accuracy_score(y_test, yhat))\n",
    "print(\"jaccard: \", knn_jacc)\n",
    "print(\"f1 score: \", knn_f1)"
   ]
  },
  {
   "cell_type": "code",
   "execution_count": 55,
   "metadata": {},
   "outputs": [
    {
     "name": "stdout",
     "output_type": "stream",
     "text": [
      "DecisionTrees's Accuracy:  0.7532924499849201\n",
      "jaccard:  0.7532924499849201\n",
      "f1 score:  0.746948213276254\n"
     ]
    }
   ],
   "source": [
    "# Decision Tree Algorithm\n",
    "from sklearn.tree import DecisionTreeClassifier\n",
    "sevTree = DecisionTreeClassifier(criterion=\"entropy\")\n",
    "sevTree.fit(X_train,y_train)\n",
    "predTree = sevTree.predict(X_test)\n",
    "print(\"DecisionTrees's Accuracy: \", metrics.accuracy_score(y_test, predTree))\n",
    "dt_jacc=jaccard_similarity_score(y_test, predTree)\n",
    "dt_f1=f1_score(y_test, predTree, average='weighted')\n",
    "print(\"jaccard: \", dt_jacc)\n",
    "print(\"f1 score: \", dt_f1)"
   ]
  },
  {
   "cell_type": "code",
   "execution_count": 56,
   "metadata": {},
   "outputs": [
    {
     "data": {
      "text/html": [
       "<div>\n",
       "<style scoped>\n",
       "    .dataframe tbody tr th:only-of-type {\n",
       "        vertical-align: middle;\n",
       "    }\n",
       "\n",
       "    .dataframe tbody tr th {\n",
       "        vertical-align: top;\n",
       "    }\n",
       "\n",
       "    .dataframe thead th {\n",
       "        text-align: right;\n",
       "    }\n",
       "</style>\n",
       "<table border=\"1\" class=\"dataframe\">\n",
       "  <thead>\n",
       "    <tr style=\"text-align: right;\">\n",
       "      <th></th>\n",
       "      <th>Jaccard</th>\n",
       "      <th>F1-score</th>\n",
       "    </tr>\n",
       "    <tr>\n",
       "      <th>Algorithm</th>\n",
       "      <th></th>\n",
       "      <th></th>\n",
       "    </tr>\n",
       "  </thead>\n",
       "  <tbody>\n",
       "    <tr>\n",
       "      <th>KNN</th>\n",
       "      <td>0.746959</td>\n",
       "      <td>0.738916</td>\n",
       "    </tr>\n",
       "    <tr>\n",
       "      <th>Decision Tree</th>\n",
       "      <td>0.753292</td>\n",
       "      <td>0.746948</td>\n",
       "    </tr>\n",
       "  </tbody>\n",
       "</table>\n",
       "</div>"
      ],
      "text/plain": [
       "                Jaccard  F1-score\n",
       "Algorithm                        \n",
       "KNN            0.746959  0.738916\n",
       "Decision Tree  0.753292  0.746948"
      ]
     },
     "execution_count": 56,
     "metadata": {},
     "output_type": "execute_result"
    }
   ],
   "source": [
    "# Comparison of the two models\n",
    "my_rpt = {'Algorithm': ['KNN','Decision Tree'],'Jaccard': [knn_jacc, dt_jacc], 'F1-score':[knn_f1, dt_f1]}\n",
    "rpt_df = pd.DataFrame(my_rpt, columns = ['Algorithm', 'Jaccard', 'F1-score'])\n",
    "rpt_df.set_index('Algorithm', inplace=True)\n",
    "rpt_df"
   ]
  },
  {
   "cell_type": "markdown",
   "metadata": {},
   "source": [
    "<h2 align=\"center\"><font size=\"5\">Decision Tree has slight better performance in this case, it's chosen for Colorado Car Accident Severity Prediction!</font></h2>"
   ]
  },
  {
   "cell_type": "code",
   "execution_count": null,
   "metadata": {},
   "outputs": [],
   "source": []
  }
 ],
 "metadata": {
  "kernelspec": {
   "display_name": "Python",
   "language": "python",
   "name": "conda-env-python-py"
  },
  "language_info": {
   "codemirror_mode": {
    "name": "ipython",
    "version": 3
   },
   "file_extension": ".py",
   "mimetype": "text/x-python",
   "name": "python",
   "nbconvert_exporter": "python",
   "pygments_lexer": "ipython3",
   "version": "3.6.11"
  }
 },
 "nbformat": 4,
 "nbformat_minor": 4
}
